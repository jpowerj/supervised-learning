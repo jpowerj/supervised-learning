{
 "cells": [
  {
   "cell_type": "code",
   "execution_count": 133,
   "outputs": [
    {
     "name": "stdout",
     "output_type": "stream",
     "text": [
      "The autoreload extension is already loaded. To reload it, use:\n",
      "  %reload_ext autoreload\n"
     ]
    }
   ],
   "source": [
    "%load_ext autoreload\n",
    "%autoreload 2"
   ],
   "metadata": {
    "collapsed": false,
    "pycharm": {
     "name": "#%%\n"
    }
   }
  },
  {
   "cell_type": "code",
   "execution_count": 134,
   "outputs": [],
   "source": [
    "import pandas as pd\n",
    "import numpy as np\n",
    "import matplotlib.pyplot as plt\n",
    "import seaborn as sns\n",
    "import joblib"
   ],
   "metadata": {
    "collapsed": false,
    "pycharm": {
     "name": "#%%\n"
    }
   }
  },
  {
   "cell_type": "markdown",
   "source": [
    "## Aggregate individual player stats to yearly team stats"
   ],
   "metadata": {
    "collapsed": false,
    "pycharm": {
     "name": "#%% md\n"
    }
   }
  },
  {
   "cell_type": "code",
   "execution_count": 135,
   "outputs": [
    {
     "data": {
      "text/plain": "       Unnamed: 0         player_name team_abbreviation   age  player_height  \\\n0               0       Dennis Rodman               CHI  36.0         198.12   \n1               1   Dwayne Schintzius               LAC  28.0         215.90   \n2               2        Earl Cureton               TOR  39.0         205.74   \n3               3         Ed O'Bannon               DAL  24.0         203.20   \n4               4         Ed Pinckney               MIA  34.0         205.74   \n...           ...                 ...               ...   ...            ...   \n11140       11140         Maxi Kleber               DAL  28.0         208.28   \n11141       11141  Melvin Frazier Jr.               ORL  23.0         195.58   \n11142       11142      Meyers Leonard               MIA  28.0         213.36   \n11143       11143        Norvel Pelle               PHI  27.0         208.28   \n11144       11144         Matt Thomas               TOR  25.0         193.04   \n\n       player_weight                      college  country draft_year  \\\n0          99.790240  Southeastern Oklahoma State      USA       1986   \n1         117.933920                      Florida      USA       1990   \n2          95.254320                Detroit Mercy      USA       1979   \n3         100.697424                         UCLA      USA       1995   \n4         108.862080                    Villanova      USA       1985   \n...              ...                          ...      ...        ...   \n11140     108.862080                         None  Germany  Undrafted   \n11141      97.522280                       Tulane      USA       2018   \n11142     117.933920                     Illinois      USA       2012   \n11143     104.779752                         None      USA  Undrafted   \n11144      86.182480                   Iowa State      USA  Undrafted   \n\n      draft_round  ...  pts   reb  ast  net_rating  oreb_pct  dreb_pct  \\\n0               2  ...  5.7  16.1  3.1        16.1     0.186     0.323   \n1               1  ...  2.3   1.5  0.3        12.3     0.078     0.151   \n2               3  ...  0.8   1.0  0.4        -2.1     0.105     0.102   \n3               1  ...  3.7   2.3  0.6        -8.7     0.060     0.149   \n4               1  ...  2.4   2.4  0.2       -11.2     0.109     0.179   \n...           ...  ...  ...   ...  ...         ...       ...       ...   \n11140   Undrafted  ...  9.1   5.4  1.1         4.6     0.056     0.140   \n11141           2  ...  1.2   0.3  0.1        -2.4     0.018     0.058   \n11142           1  ...  6.1   5.1  1.1         5.6     0.029     0.217   \n11143   Undrafted  ...  2.1   3.0  0.4       -16.4     0.085     0.237   \n11144   Undrafted  ...  4.5   1.4  0.5         1.0     0.017     0.104   \n\n       usg_pct  ts_pct  ast_pct   season  \n0        0.100   0.479    0.113  1996-97  \n1        0.175   0.430    0.048  1996-97  \n2        0.103   0.376    0.148  1996-97  \n3        0.167   0.399    0.077  1996-97  \n4        0.127   0.611    0.040  1996-97  \n...        ...     ...      ...      ...  \n11140    0.136   0.605    0.064  2019-20  \n11141    0.164   0.480    0.033  2019-20  \n11142    0.120   0.640    0.076  2019-20  \n11143    0.126   0.521    0.056  2019-20  \n11144    0.149   0.663    0.089  2019-20  \n\n[11145 rows x 22 columns]",
      "text/html": "<div>\n<style scoped>\n    .dataframe tbody tr th:only-of-type {\n        vertical-align: middle;\n    }\n\n    .dataframe tbody tr th {\n        vertical-align: top;\n    }\n\n    .dataframe thead th {\n        text-align: right;\n    }\n</style>\n<table border=\"1\" class=\"dataframe\">\n  <thead>\n    <tr style=\"text-align: right;\">\n      <th></th>\n      <th>Unnamed: 0</th>\n      <th>player_name</th>\n      <th>team_abbreviation</th>\n      <th>age</th>\n      <th>player_height</th>\n      <th>player_weight</th>\n      <th>college</th>\n      <th>country</th>\n      <th>draft_year</th>\n      <th>draft_round</th>\n      <th>...</th>\n      <th>pts</th>\n      <th>reb</th>\n      <th>ast</th>\n      <th>net_rating</th>\n      <th>oreb_pct</th>\n      <th>dreb_pct</th>\n      <th>usg_pct</th>\n      <th>ts_pct</th>\n      <th>ast_pct</th>\n      <th>season</th>\n    </tr>\n  </thead>\n  <tbody>\n    <tr>\n      <th>0</th>\n      <td>0</td>\n      <td>Dennis Rodman</td>\n      <td>CHI</td>\n      <td>36.0</td>\n      <td>198.12</td>\n      <td>99.790240</td>\n      <td>Southeastern Oklahoma State</td>\n      <td>USA</td>\n      <td>1986</td>\n      <td>2</td>\n      <td>...</td>\n      <td>5.7</td>\n      <td>16.1</td>\n      <td>3.1</td>\n      <td>16.1</td>\n      <td>0.186</td>\n      <td>0.323</td>\n      <td>0.100</td>\n      <td>0.479</td>\n      <td>0.113</td>\n      <td>1996-97</td>\n    </tr>\n    <tr>\n      <th>1</th>\n      <td>1</td>\n      <td>Dwayne Schintzius</td>\n      <td>LAC</td>\n      <td>28.0</td>\n      <td>215.90</td>\n      <td>117.933920</td>\n      <td>Florida</td>\n      <td>USA</td>\n      <td>1990</td>\n      <td>1</td>\n      <td>...</td>\n      <td>2.3</td>\n      <td>1.5</td>\n      <td>0.3</td>\n      <td>12.3</td>\n      <td>0.078</td>\n      <td>0.151</td>\n      <td>0.175</td>\n      <td>0.430</td>\n      <td>0.048</td>\n      <td>1996-97</td>\n    </tr>\n    <tr>\n      <th>2</th>\n      <td>2</td>\n      <td>Earl Cureton</td>\n      <td>TOR</td>\n      <td>39.0</td>\n      <td>205.74</td>\n      <td>95.254320</td>\n      <td>Detroit Mercy</td>\n      <td>USA</td>\n      <td>1979</td>\n      <td>3</td>\n      <td>...</td>\n      <td>0.8</td>\n      <td>1.0</td>\n      <td>0.4</td>\n      <td>-2.1</td>\n      <td>0.105</td>\n      <td>0.102</td>\n      <td>0.103</td>\n      <td>0.376</td>\n      <td>0.148</td>\n      <td>1996-97</td>\n    </tr>\n    <tr>\n      <th>3</th>\n      <td>3</td>\n      <td>Ed O'Bannon</td>\n      <td>DAL</td>\n      <td>24.0</td>\n      <td>203.20</td>\n      <td>100.697424</td>\n      <td>UCLA</td>\n      <td>USA</td>\n      <td>1995</td>\n      <td>1</td>\n      <td>...</td>\n      <td>3.7</td>\n      <td>2.3</td>\n      <td>0.6</td>\n      <td>-8.7</td>\n      <td>0.060</td>\n      <td>0.149</td>\n      <td>0.167</td>\n      <td>0.399</td>\n      <td>0.077</td>\n      <td>1996-97</td>\n    </tr>\n    <tr>\n      <th>4</th>\n      <td>4</td>\n      <td>Ed Pinckney</td>\n      <td>MIA</td>\n      <td>34.0</td>\n      <td>205.74</td>\n      <td>108.862080</td>\n      <td>Villanova</td>\n      <td>USA</td>\n      <td>1985</td>\n      <td>1</td>\n      <td>...</td>\n      <td>2.4</td>\n      <td>2.4</td>\n      <td>0.2</td>\n      <td>-11.2</td>\n      <td>0.109</td>\n      <td>0.179</td>\n      <td>0.127</td>\n      <td>0.611</td>\n      <td>0.040</td>\n      <td>1996-97</td>\n    </tr>\n    <tr>\n      <th>...</th>\n      <td>...</td>\n      <td>...</td>\n      <td>...</td>\n      <td>...</td>\n      <td>...</td>\n      <td>...</td>\n      <td>...</td>\n      <td>...</td>\n      <td>...</td>\n      <td>...</td>\n      <td>...</td>\n      <td>...</td>\n      <td>...</td>\n      <td>...</td>\n      <td>...</td>\n      <td>...</td>\n      <td>...</td>\n      <td>...</td>\n      <td>...</td>\n      <td>...</td>\n      <td>...</td>\n    </tr>\n    <tr>\n      <th>11140</th>\n      <td>11140</td>\n      <td>Maxi Kleber</td>\n      <td>DAL</td>\n      <td>28.0</td>\n      <td>208.28</td>\n      <td>108.862080</td>\n      <td>None</td>\n      <td>Germany</td>\n      <td>Undrafted</td>\n      <td>Undrafted</td>\n      <td>...</td>\n      <td>9.1</td>\n      <td>5.4</td>\n      <td>1.1</td>\n      <td>4.6</td>\n      <td>0.056</td>\n      <td>0.140</td>\n      <td>0.136</td>\n      <td>0.605</td>\n      <td>0.064</td>\n      <td>2019-20</td>\n    </tr>\n    <tr>\n      <th>11141</th>\n      <td>11141</td>\n      <td>Melvin Frazier Jr.</td>\n      <td>ORL</td>\n      <td>23.0</td>\n      <td>195.58</td>\n      <td>97.522280</td>\n      <td>Tulane</td>\n      <td>USA</td>\n      <td>2018</td>\n      <td>2</td>\n      <td>...</td>\n      <td>1.2</td>\n      <td>0.3</td>\n      <td>0.1</td>\n      <td>-2.4</td>\n      <td>0.018</td>\n      <td>0.058</td>\n      <td>0.164</td>\n      <td>0.480</td>\n      <td>0.033</td>\n      <td>2019-20</td>\n    </tr>\n    <tr>\n      <th>11142</th>\n      <td>11142</td>\n      <td>Meyers Leonard</td>\n      <td>MIA</td>\n      <td>28.0</td>\n      <td>213.36</td>\n      <td>117.933920</td>\n      <td>Illinois</td>\n      <td>USA</td>\n      <td>2012</td>\n      <td>1</td>\n      <td>...</td>\n      <td>6.1</td>\n      <td>5.1</td>\n      <td>1.1</td>\n      <td>5.6</td>\n      <td>0.029</td>\n      <td>0.217</td>\n      <td>0.120</td>\n      <td>0.640</td>\n      <td>0.076</td>\n      <td>2019-20</td>\n    </tr>\n    <tr>\n      <th>11143</th>\n      <td>11143</td>\n      <td>Norvel Pelle</td>\n      <td>PHI</td>\n      <td>27.0</td>\n      <td>208.28</td>\n      <td>104.779752</td>\n      <td>None</td>\n      <td>USA</td>\n      <td>Undrafted</td>\n      <td>Undrafted</td>\n      <td>...</td>\n      <td>2.1</td>\n      <td>3.0</td>\n      <td>0.4</td>\n      <td>-16.4</td>\n      <td>0.085</td>\n      <td>0.237</td>\n      <td>0.126</td>\n      <td>0.521</td>\n      <td>0.056</td>\n      <td>2019-20</td>\n    </tr>\n    <tr>\n      <th>11144</th>\n      <td>11144</td>\n      <td>Matt Thomas</td>\n      <td>TOR</td>\n      <td>25.0</td>\n      <td>193.04</td>\n      <td>86.182480</td>\n      <td>Iowa State</td>\n      <td>USA</td>\n      <td>Undrafted</td>\n      <td>Undrafted</td>\n      <td>...</td>\n      <td>4.5</td>\n      <td>1.4</td>\n      <td>0.5</td>\n      <td>1.0</td>\n      <td>0.017</td>\n      <td>0.104</td>\n      <td>0.149</td>\n      <td>0.663</td>\n      <td>0.089</td>\n      <td>2019-20</td>\n    </tr>\n  </tbody>\n</table>\n<p>11145 rows × 22 columns</p>\n</div>"
     },
     "execution_count": 135,
     "metadata": {},
     "output_type": "execute_result"
    }
   ],
   "source": [
    "player_df = pd.read_csv(\"all_seasons.csv\")\n",
    "player_df"
   ],
   "metadata": {
    "collapsed": false,
    "pycharm": {
     "name": "#%%\n"
    }
   }
  },
  {
   "cell_type": "code",
   "execution_count": 136,
   "outputs": [],
   "source": [
    "vars_to_keep = [\"season\",\"team_abbreviation\",\"age\",\"player_height\",\"player_weight\"]\n",
    "season_team_df = player_df[vars_to_keep].groupby([\"season\",\"team_abbreviation\"]).mean().reset_index()"
   ],
   "metadata": {
    "collapsed": false,
    "pycharm": {
     "name": "#%%\n"
    }
   }
  },
  {
   "cell_type": "code",
   "execution_count": 137,
   "outputs": [],
   "source": [
    "season_team_df.to_csv(\"season_team_demo.csv\", index=False)"
   ],
   "metadata": {
    "collapsed": false,
    "pycharm": {
     "name": "#%%\n"
    }
   }
  },
  {
   "cell_type": "code",
   "execution_count": 138,
   "outputs": [
    {
     "data": {
      "text/plain": "      season team_abbreviation        age  player_height  player_weight\n0    1996-97               ATL  27.529412     203.797647     103.098793\n1    1996-97               BOS  27.647059     200.510588      98.109281\n2    1996-97               CHH  30.230769     198.706154      99.755348\n3    1996-97               CHI  30.666667     203.369333     105.233344\n4    1996-97               CLE  26.615385     199.878462     100.976558\n..       ...               ...        ...            ...            ...\n707  2019-20               SAC  25.117647     199.763529      98.242691\n708  2019-20               SAS  25.750000     199.390000      99.223250\n709  2019-20               TOR  25.555556     198.261111      96.539497\n710  2019-20               UTA  25.666667     196.285556      98.353865\n711  2019-20               WAS  25.210526     197.718947      96.925448\n\n[712 rows x 5 columns]",
      "text/html": "<div>\n<style scoped>\n    .dataframe tbody tr th:only-of-type {\n        vertical-align: middle;\n    }\n\n    .dataframe tbody tr th {\n        vertical-align: top;\n    }\n\n    .dataframe thead th {\n        text-align: right;\n    }\n</style>\n<table border=\"1\" class=\"dataframe\">\n  <thead>\n    <tr style=\"text-align: right;\">\n      <th></th>\n      <th>season</th>\n      <th>team_abbreviation</th>\n      <th>age</th>\n      <th>player_height</th>\n      <th>player_weight</th>\n    </tr>\n  </thead>\n  <tbody>\n    <tr>\n      <th>0</th>\n      <td>1996-97</td>\n      <td>ATL</td>\n      <td>27.529412</td>\n      <td>203.797647</td>\n      <td>103.098793</td>\n    </tr>\n    <tr>\n      <th>1</th>\n      <td>1996-97</td>\n      <td>BOS</td>\n      <td>27.647059</td>\n      <td>200.510588</td>\n      <td>98.109281</td>\n    </tr>\n    <tr>\n      <th>2</th>\n      <td>1996-97</td>\n      <td>CHH</td>\n      <td>30.230769</td>\n      <td>198.706154</td>\n      <td>99.755348</td>\n    </tr>\n    <tr>\n      <th>3</th>\n      <td>1996-97</td>\n      <td>CHI</td>\n      <td>30.666667</td>\n      <td>203.369333</td>\n      <td>105.233344</td>\n    </tr>\n    <tr>\n      <th>4</th>\n      <td>1996-97</td>\n      <td>CLE</td>\n      <td>26.615385</td>\n      <td>199.878462</td>\n      <td>100.976558</td>\n    </tr>\n    <tr>\n      <th>...</th>\n      <td>...</td>\n      <td>...</td>\n      <td>...</td>\n      <td>...</td>\n      <td>...</td>\n    </tr>\n    <tr>\n      <th>707</th>\n      <td>2019-20</td>\n      <td>SAC</td>\n      <td>25.117647</td>\n      <td>199.763529</td>\n      <td>98.242691</td>\n    </tr>\n    <tr>\n      <th>708</th>\n      <td>2019-20</td>\n      <td>SAS</td>\n      <td>25.750000</td>\n      <td>199.390000</td>\n      <td>99.223250</td>\n    </tr>\n    <tr>\n      <th>709</th>\n      <td>2019-20</td>\n      <td>TOR</td>\n      <td>25.555556</td>\n      <td>198.261111</td>\n      <td>96.539497</td>\n    </tr>\n    <tr>\n      <th>710</th>\n      <td>2019-20</td>\n      <td>UTA</td>\n      <td>25.666667</td>\n      <td>196.285556</td>\n      <td>98.353865</td>\n    </tr>\n    <tr>\n      <th>711</th>\n      <td>2019-20</td>\n      <td>WAS</td>\n      <td>25.210526</td>\n      <td>197.718947</td>\n      <td>96.925448</td>\n    </tr>\n  </tbody>\n</table>\n<p>712 rows × 5 columns</p>\n</div>"
     },
     "execution_count": 138,
     "metadata": {},
     "output_type": "execute_result"
    }
   ],
   "source": [
    "season_team_df"
   ],
   "metadata": {
    "collapsed": false,
    "pycharm": {
     "name": "#%%\n"
    }
   }
  },
  {
   "cell_type": "markdown",
   "source": [
    "## Clean data on which teams made playoffs each year"
   ],
   "metadata": {
    "collapsed": false,
    "pycharm": {
     "name": "#%% md\n"
    }
   }
  },
  {
   "cell_type": "code",
   "execution_count": 139,
   "outputs": [
    {
     "data": {
      "text/plain": "       Yr   Lg                    Series            Unnamed: 3  Unnamed: 4  \\\n0    2022  NBA  Eastern Conf First Round  Apr 17 - Apr 27 2022         NaN   \n1    2022  NBA  Western Conf First Round  Apr 16 - Apr 29 2022         NaN   \n2    2022  NBA  Eastern Conf First Round  Apr 17 - Apr 25 2022         NaN   \n3    2022  NBA  Western Conf First Round  Apr 16 - Apr 27 2022         NaN   \n4    2022  NBA  Western Conf First Round  Apr 16 - Apr 28 2022         NaN   \n..    ...  ...                       ...                   ...         ...   \n400  1996  NBA   Western Conf Semifinals   May 4 - May 12 1996         NaN   \n401  1996  NBA   Western Conf Semifinals   May 7 - May 16 1996         NaN   \n402  1996  NBA       Eastern Conf Finals  May 19 - May 27 1996         NaN   \n403  1996  NBA       Western Conf Finals   May 18 - Jun 2 1996         NaN   \n404  1996  NBA                    Finals   Jun 5 - Jun 16 1996         NaN   \n\n                    WinnerTeam  WinerW  Unnamed: 7  \\\n0          Milwaukee Bucks (3)       4         NaN   \n1        Memphis Grizzlies (2)       4         NaN   \n2           Boston Celtics (2)       4         NaN   \n3    Golden State Warriors (3)       4         NaN   \n4         Dallas Mavericks (4)       4         NaN   \n..                         ...     ...         ...   \n400    Seattle SuperSonics (1)       4         NaN   \n401              Utah Jazz (3)       4         NaN   \n402          Chicago Bulls (1)       4         NaN   \n403    Seattle SuperSonics (1)       4         NaN   \n404          Chicago Bulls (1)       4         NaN   \n\n                      LoserTeam  LoserW  Unnamed: 10     Favorite    Underdog  \n0             Chicago Bulls (6)       1          NaN  MIL (-1100)  CHI (+700)  \n1    Minnesota Timberwolves (7)       2          NaN   MEM (-320)  MIN (+260)  \n2             Brooklyn Nets (7)       0          NaN   BOS (-130)  BRK (+110)  \n3            Denver Nuggets (6)       1          NaN   GSW (-275)  DEN (+225)  \n4                 Utah Jazz (5)       2          NaN   UTA (-300)  DAL (+245)  \n..                          ...     ...          ...          ...         ...  \n400         Houston Rockets (5)       0          NaN   SEA (-200)  HOU (+170)  \n401       San Antonio Spurs (2)       2          NaN          NaN         NaN  \n402           Orlando Magic (2)       0          NaN   CHI (-500)  ORL (+350)  \n403               Utah Jazz (3)       3          NaN   SEA (-270)  UTA (+210)  \n404     Seattle SuperSonics (1)       2          NaN   CHI (-950)  SEA (+650)  \n\n[405 rows x 13 columns]",
      "text/html": "<div>\n<style scoped>\n    .dataframe tbody tr th:only-of-type {\n        vertical-align: middle;\n    }\n\n    .dataframe tbody tr th {\n        vertical-align: top;\n    }\n\n    .dataframe thead th {\n        text-align: right;\n    }\n</style>\n<table border=\"1\" class=\"dataframe\">\n  <thead>\n    <tr style=\"text-align: right;\">\n      <th></th>\n      <th>Yr</th>\n      <th>Lg</th>\n      <th>Series</th>\n      <th>Unnamed: 3</th>\n      <th>Unnamed: 4</th>\n      <th>WinnerTeam</th>\n      <th>WinerW</th>\n      <th>Unnamed: 7</th>\n      <th>LoserTeam</th>\n      <th>LoserW</th>\n      <th>Unnamed: 10</th>\n      <th>Favorite</th>\n      <th>Underdog</th>\n    </tr>\n  </thead>\n  <tbody>\n    <tr>\n      <th>0</th>\n      <td>2022</td>\n      <td>NBA</td>\n      <td>Eastern Conf First Round</td>\n      <td>Apr 17 - Apr 27 2022</td>\n      <td>NaN</td>\n      <td>Milwaukee Bucks (3)</td>\n      <td>4</td>\n      <td>NaN</td>\n      <td>Chicago Bulls (6)</td>\n      <td>1</td>\n      <td>NaN</td>\n      <td>MIL (-1100)</td>\n      <td>CHI (+700)</td>\n    </tr>\n    <tr>\n      <th>1</th>\n      <td>2022</td>\n      <td>NBA</td>\n      <td>Western Conf First Round</td>\n      <td>Apr 16 - Apr 29 2022</td>\n      <td>NaN</td>\n      <td>Memphis Grizzlies (2)</td>\n      <td>4</td>\n      <td>NaN</td>\n      <td>Minnesota Timberwolves (7)</td>\n      <td>2</td>\n      <td>NaN</td>\n      <td>MEM (-320)</td>\n      <td>MIN (+260)</td>\n    </tr>\n    <tr>\n      <th>2</th>\n      <td>2022</td>\n      <td>NBA</td>\n      <td>Eastern Conf First Round</td>\n      <td>Apr 17 - Apr 25 2022</td>\n      <td>NaN</td>\n      <td>Boston Celtics (2)</td>\n      <td>4</td>\n      <td>NaN</td>\n      <td>Brooklyn Nets (7)</td>\n      <td>0</td>\n      <td>NaN</td>\n      <td>BOS (-130)</td>\n      <td>BRK (+110)</td>\n    </tr>\n    <tr>\n      <th>3</th>\n      <td>2022</td>\n      <td>NBA</td>\n      <td>Western Conf First Round</td>\n      <td>Apr 16 - Apr 27 2022</td>\n      <td>NaN</td>\n      <td>Golden State Warriors (3)</td>\n      <td>4</td>\n      <td>NaN</td>\n      <td>Denver Nuggets (6)</td>\n      <td>1</td>\n      <td>NaN</td>\n      <td>GSW (-275)</td>\n      <td>DEN (+225)</td>\n    </tr>\n    <tr>\n      <th>4</th>\n      <td>2022</td>\n      <td>NBA</td>\n      <td>Western Conf First Round</td>\n      <td>Apr 16 - Apr 28 2022</td>\n      <td>NaN</td>\n      <td>Dallas Mavericks (4)</td>\n      <td>4</td>\n      <td>NaN</td>\n      <td>Utah Jazz (5)</td>\n      <td>2</td>\n      <td>NaN</td>\n      <td>UTA (-300)</td>\n      <td>DAL (+245)</td>\n    </tr>\n    <tr>\n      <th>...</th>\n      <td>...</td>\n      <td>...</td>\n      <td>...</td>\n      <td>...</td>\n      <td>...</td>\n      <td>...</td>\n      <td>...</td>\n      <td>...</td>\n      <td>...</td>\n      <td>...</td>\n      <td>...</td>\n      <td>...</td>\n      <td>...</td>\n    </tr>\n    <tr>\n      <th>400</th>\n      <td>1996</td>\n      <td>NBA</td>\n      <td>Western Conf Semifinals</td>\n      <td>May 4 - May 12 1996</td>\n      <td>NaN</td>\n      <td>Seattle SuperSonics (1)</td>\n      <td>4</td>\n      <td>NaN</td>\n      <td>Houston Rockets (5)</td>\n      <td>0</td>\n      <td>NaN</td>\n      <td>SEA (-200)</td>\n      <td>HOU (+170)</td>\n    </tr>\n    <tr>\n      <th>401</th>\n      <td>1996</td>\n      <td>NBA</td>\n      <td>Western Conf Semifinals</td>\n      <td>May 7 - May 16 1996</td>\n      <td>NaN</td>\n      <td>Utah Jazz (3)</td>\n      <td>4</td>\n      <td>NaN</td>\n      <td>San Antonio Spurs (2)</td>\n      <td>2</td>\n      <td>NaN</td>\n      <td>NaN</td>\n      <td>NaN</td>\n    </tr>\n    <tr>\n      <th>402</th>\n      <td>1996</td>\n      <td>NBA</td>\n      <td>Eastern Conf Finals</td>\n      <td>May 19 - May 27 1996</td>\n      <td>NaN</td>\n      <td>Chicago Bulls (1)</td>\n      <td>4</td>\n      <td>NaN</td>\n      <td>Orlando Magic (2)</td>\n      <td>0</td>\n      <td>NaN</td>\n      <td>CHI (-500)</td>\n      <td>ORL (+350)</td>\n    </tr>\n    <tr>\n      <th>403</th>\n      <td>1996</td>\n      <td>NBA</td>\n      <td>Western Conf Finals</td>\n      <td>May 18 - Jun 2 1996</td>\n      <td>NaN</td>\n      <td>Seattle SuperSonics (1)</td>\n      <td>4</td>\n      <td>NaN</td>\n      <td>Utah Jazz (3)</td>\n      <td>3</td>\n      <td>NaN</td>\n      <td>SEA (-270)</td>\n      <td>UTA (+210)</td>\n    </tr>\n    <tr>\n      <th>404</th>\n      <td>1996</td>\n      <td>NBA</td>\n      <td>Finals</td>\n      <td>Jun 5 - Jun 16 1996</td>\n      <td>NaN</td>\n      <td>Chicago Bulls (1)</td>\n      <td>4</td>\n      <td>NaN</td>\n      <td>Seattle SuperSonics (1)</td>\n      <td>2</td>\n      <td>NaN</td>\n      <td>CHI (-950)</td>\n      <td>SEA (+650)</td>\n    </tr>\n  </tbody>\n</table>\n<p>405 rows × 13 columns</p>\n</div>"
     },
     "execution_count": 139,
     "metadata": {},
     "output_type": "execute_result"
    }
   ],
   "source": [
    "playoff_df = pd.read_csv(\"nba_playoffs.csv\")\n",
    "playoff_df"
   ],
   "metadata": {
    "collapsed": false,
    "pycharm": {
     "name": "#%%\n"
    }
   }
  },
  {
   "cell_type": "code",
   "execution_count": 140,
   "outputs": [
    {
     "data": {
      "text/plain": "       Yr                 WinnerTeam                   LoserTeam\n0    2022        Milwaukee Bucks (3)           Chicago Bulls (6)\n1    2022      Memphis Grizzlies (2)  Minnesota Timberwolves (7)\n2    2022         Boston Celtics (2)           Brooklyn Nets (7)\n3    2022  Golden State Warriors (3)          Denver Nuggets (6)\n4    2022       Dallas Mavericks (4)               Utah Jazz (5)\n..    ...                        ...                         ...\n400  1996    Seattle SuperSonics (1)         Houston Rockets (5)\n401  1996              Utah Jazz (3)       San Antonio Spurs (2)\n402  1996          Chicago Bulls (1)           Orlando Magic (2)\n403  1996    Seattle SuperSonics (1)               Utah Jazz (3)\n404  1996          Chicago Bulls (1)     Seattle SuperSonics (1)\n\n[405 rows x 3 columns]",
      "text/html": "<div>\n<style scoped>\n    .dataframe tbody tr th:only-of-type {\n        vertical-align: middle;\n    }\n\n    .dataframe tbody tr th {\n        vertical-align: top;\n    }\n\n    .dataframe thead th {\n        text-align: right;\n    }\n</style>\n<table border=\"1\" class=\"dataframe\">\n  <thead>\n    <tr style=\"text-align: right;\">\n      <th></th>\n      <th>Yr</th>\n      <th>WinnerTeam</th>\n      <th>LoserTeam</th>\n    </tr>\n  </thead>\n  <tbody>\n    <tr>\n      <th>0</th>\n      <td>2022</td>\n      <td>Milwaukee Bucks (3)</td>\n      <td>Chicago Bulls (6)</td>\n    </tr>\n    <tr>\n      <th>1</th>\n      <td>2022</td>\n      <td>Memphis Grizzlies (2)</td>\n      <td>Minnesota Timberwolves (7)</td>\n    </tr>\n    <tr>\n      <th>2</th>\n      <td>2022</td>\n      <td>Boston Celtics (2)</td>\n      <td>Brooklyn Nets (7)</td>\n    </tr>\n    <tr>\n      <th>3</th>\n      <td>2022</td>\n      <td>Golden State Warriors (3)</td>\n      <td>Denver Nuggets (6)</td>\n    </tr>\n    <tr>\n      <th>4</th>\n      <td>2022</td>\n      <td>Dallas Mavericks (4)</td>\n      <td>Utah Jazz (5)</td>\n    </tr>\n    <tr>\n      <th>...</th>\n      <td>...</td>\n      <td>...</td>\n      <td>...</td>\n    </tr>\n    <tr>\n      <th>400</th>\n      <td>1996</td>\n      <td>Seattle SuperSonics (1)</td>\n      <td>Houston Rockets (5)</td>\n    </tr>\n    <tr>\n      <th>401</th>\n      <td>1996</td>\n      <td>Utah Jazz (3)</td>\n      <td>San Antonio Spurs (2)</td>\n    </tr>\n    <tr>\n      <th>402</th>\n      <td>1996</td>\n      <td>Chicago Bulls (1)</td>\n      <td>Orlando Magic (2)</td>\n    </tr>\n    <tr>\n      <th>403</th>\n      <td>1996</td>\n      <td>Seattle SuperSonics (1)</td>\n      <td>Utah Jazz (3)</td>\n    </tr>\n    <tr>\n      <th>404</th>\n      <td>1996</td>\n      <td>Chicago Bulls (1)</td>\n      <td>Seattle SuperSonics (1)</td>\n    </tr>\n  </tbody>\n</table>\n<p>405 rows × 3 columns</p>\n</div>"
     },
     "execution_count": 140,
     "metadata": {},
     "output_type": "execute_result"
    }
   ],
   "source": [
    "# Drop extraneous vars\n",
    "playoff_vars = [\"Yr\",\"WinnerTeam\",\"LoserTeam\"]\n",
    "playoff_df = playoff_df[playoff_vars].copy()\n",
    "playoff_df"
   ],
   "metadata": {
    "collapsed": false,
    "pycharm": {
     "name": "#%%\n"
    }
   }
  },
  {
   "cell_type": "code",
   "execution_count": 141,
   "outputs": [],
   "source": [
    "po_df_long = playoff_df.melt(id_vars=[\"Yr\"])\n",
    "# And we don't need \"variable\" column anymore\n",
    "po_df_long.drop(columns=['variable'], inplace=True)"
   ],
   "metadata": {
    "collapsed": false,
    "pycharm": {
     "name": "#%%\n"
    }
   }
  },
  {
   "cell_type": "code",
   "execution_count": 142,
   "outputs": [
    {
     "data": {
      "text/plain": "       Yr                  value\n0    2022        Milwaukee Bucks\n1    2022      Memphis Grizzlies\n2    2022         Boston Celtics\n3    2022  Golden State Warriors\n4    2022       Dallas Mavericks\n..    ...                    ...\n805  1996        Houston Rockets\n806  1996      San Antonio Spurs\n807  1996          Orlando Magic\n808  1996              Utah Jazz\n809  1996    Seattle SuperSonics\n\n[810 rows x 2 columns]",
      "text/html": "<div>\n<style scoped>\n    .dataframe tbody tr th:only-of-type {\n        vertical-align: middle;\n    }\n\n    .dataframe tbody tr th {\n        vertical-align: top;\n    }\n\n    .dataframe thead th {\n        text-align: right;\n    }\n</style>\n<table border=\"1\" class=\"dataframe\">\n  <thead>\n    <tr style=\"text-align: right;\">\n      <th></th>\n      <th>Yr</th>\n      <th>value</th>\n    </tr>\n  </thead>\n  <tbody>\n    <tr>\n      <th>0</th>\n      <td>2022</td>\n      <td>Milwaukee Bucks</td>\n    </tr>\n    <tr>\n      <th>1</th>\n      <td>2022</td>\n      <td>Memphis Grizzlies</td>\n    </tr>\n    <tr>\n      <th>2</th>\n      <td>2022</td>\n      <td>Boston Celtics</td>\n    </tr>\n    <tr>\n      <th>3</th>\n      <td>2022</td>\n      <td>Golden State Warriors</td>\n    </tr>\n    <tr>\n      <th>4</th>\n      <td>2022</td>\n      <td>Dallas Mavericks</td>\n    </tr>\n    <tr>\n      <th>...</th>\n      <td>...</td>\n      <td>...</td>\n    </tr>\n    <tr>\n      <th>805</th>\n      <td>1996</td>\n      <td>Houston Rockets</td>\n    </tr>\n    <tr>\n      <th>806</th>\n      <td>1996</td>\n      <td>San Antonio Spurs</td>\n    </tr>\n    <tr>\n      <th>807</th>\n      <td>1996</td>\n      <td>Orlando Magic</td>\n    </tr>\n    <tr>\n      <th>808</th>\n      <td>1996</td>\n      <td>Utah Jazz</td>\n    </tr>\n    <tr>\n      <th>809</th>\n      <td>1996</td>\n      <td>Seattle SuperSonics</td>\n    </tr>\n  </tbody>\n</table>\n<p>810 rows × 2 columns</p>\n</div>"
     },
     "execution_count": 142,
     "metadata": {},
     "output_type": "execute_result"
    }
   ],
   "source": [
    "# Get rid of the parentheses\n",
    "po_df_long['value'] = po_df_long['value'].apply(lambda x: x.split(\" (\")[0])\n",
    "po_df_long"
   ],
   "metadata": {
    "collapsed": false,
    "pycharm": {
     "name": "#%%\n"
    }
   }
  },
  {
   "cell_type": "code",
   "execution_count": 143,
   "outputs": [
    {
     "data": {
      "text/plain": "       Yr                   value\n0    2022         Milwaukee Bucks\n1    2022       Memphis Grizzlies\n2    2022          Boston Celtics\n3    2022   Golden State Warriors\n4    2022        Dallas Mavericks\n..    ...                     ...\n798  1996         Detroit Pistons\n799  1996      Los Angeles Lakers\n800  1996            Phoenix Suns\n801  1996        Sacramento Kings\n802  1996  Portland Trail Blazers\n\n[432 rows x 2 columns]",
      "text/html": "<div>\n<style scoped>\n    .dataframe tbody tr th:only-of-type {\n        vertical-align: middle;\n    }\n\n    .dataframe tbody tr th {\n        vertical-align: top;\n    }\n\n    .dataframe thead th {\n        text-align: right;\n    }\n</style>\n<table border=\"1\" class=\"dataframe\">\n  <thead>\n    <tr style=\"text-align: right;\">\n      <th></th>\n      <th>Yr</th>\n      <th>value</th>\n    </tr>\n  </thead>\n  <tbody>\n    <tr>\n      <th>0</th>\n      <td>2022</td>\n      <td>Milwaukee Bucks</td>\n    </tr>\n    <tr>\n      <th>1</th>\n      <td>2022</td>\n      <td>Memphis Grizzlies</td>\n    </tr>\n    <tr>\n      <th>2</th>\n      <td>2022</td>\n      <td>Boston Celtics</td>\n    </tr>\n    <tr>\n      <th>3</th>\n      <td>2022</td>\n      <td>Golden State Warriors</td>\n    </tr>\n    <tr>\n      <th>4</th>\n      <td>2022</td>\n      <td>Dallas Mavericks</td>\n    </tr>\n    <tr>\n      <th>...</th>\n      <td>...</td>\n      <td>...</td>\n    </tr>\n    <tr>\n      <th>798</th>\n      <td>1996</td>\n      <td>Detroit Pistons</td>\n    </tr>\n    <tr>\n      <th>799</th>\n      <td>1996</td>\n      <td>Los Angeles Lakers</td>\n    </tr>\n    <tr>\n      <th>800</th>\n      <td>1996</td>\n      <td>Phoenix Suns</td>\n    </tr>\n    <tr>\n      <th>801</th>\n      <td>1996</td>\n      <td>Sacramento Kings</td>\n    </tr>\n    <tr>\n      <th>802</th>\n      <td>1996</td>\n      <td>Portland Trail Blazers</td>\n    </tr>\n  </tbody>\n</table>\n<p>432 rows × 2 columns</p>\n</div>"
     },
     "execution_count": 143,
     "metadata": {},
     "output_type": "execute_result"
    }
   ],
   "source": [
    "# Drop duplicates and we're set\n",
    "po_df_long.drop_duplicates(subset=['Yr','value'])"
   ],
   "metadata": {
    "collapsed": false,
    "pycharm": {
     "name": "#%%\n"
    }
   }
  },
  {
   "cell_type": "code",
   "execution_count": 144,
   "outputs": [],
   "source": [
    "# Data note: changing Bullets to Wizards for continuity (I think only 1 year with bullets here)\n",
    "po_df_long['value'] = po_df_long['value'].apply(lambda x: \"Washington Wizards\" if x==\"Washington Bullets\" else x)"
   ],
   "metadata": {
    "collapsed": false,
    "pycharm": {
     "name": "#%%\n"
    }
   }
  },
  {
   "cell_type": "code",
   "execution_count": 145,
   "outputs": [
    {
     "name": "stdout",
     "output_type": "stream",
     "text": [
      "{'Indiana Pacers', 'Sacramento Kings', 'New York Knicks', 'Detroit Pistons', 'Utah Jazz', 'Toronto Raptors', 'Charlotte Hornets', 'Phoenix Suns', 'Portland Trail Blazers', 'San Antonio Spurs', 'Milwaukee Bucks', 'Los Angeles Lakers', 'Minnesota Timberwolves', 'Philadelphia 76ers', 'Miami Heat', 'Seattle SuperSonics'}\n"
     ]
    }
   ],
   "source": [
    "# For efficiency (doesn't rly matter here but, fun), turn into a dict mapping\n",
    "# year to set of teams\n",
    "po_records = po_df_long.to_dict(orient='records')\n",
    "# Could do a fun list comprehension, but for time just gonna loop\n",
    "playoff_teams = {year: set() for year in range(po_df_long['Yr'].min(),po_df_long['Yr'].max()+1)}\n",
    "#print(playoff_teams)\n",
    "for cur_record in po_records:\n",
    "    record_yr = cur_record['Yr']\n",
    "    record_team = cur_record['value']\n",
    "    playoff_teams[record_yr].add(record_team)\n",
    "print(playoff_teams[2000])"
   ],
   "metadata": {
    "collapsed": false,
    "pycharm": {
     "name": "#%%\n"
    }
   }
  },
  {
   "cell_type": "code",
   "execution_count": 146,
   "outputs": [
    {
     "data": {
      "text/plain": "['playoff_teams.pkl']"
     },
     "execution_count": 146,
     "metadata": {},
     "output_type": "execute_result"
    }
   ],
   "source": [
    "joblib.dump(playoff_teams, \"playoff_teams.pkl\")"
   ],
   "metadata": {
    "collapsed": false,
    "pycharm": {
     "name": "#%%\n"
    }
   }
  },
  {
   "cell_type": "markdown",
   "source": [
    "## Add playoff data to season_team_df"
   ],
   "metadata": {
    "collapsed": false,
    "pycharm": {
     "name": "#%% md\n"
    }
   }
  },
  {
   "cell_type": "code",
   "execution_count": 147,
   "outputs": [
    {
     "data": {
      "text/plain": "      season team_abbreviation        age  player_height  player_weight  \\\n0    1996-97               ATL  27.529412     203.797647     103.098793   \n1    1996-97               BOS  27.647059     200.510588      98.109281   \n2    1996-97               CHH  30.230769     198.706154      99.755348   \n3    1996-97               CHI  30.666667     203.369333     105.233344   \n4    1996-97               CLE  26.615385     199.878462     100.976558   \n..       ...               ...        ...            ...            ...   \n707  2019-20               SAC  25.117647     199.763529      98.242691   \n708  2019-20               SAS  25.750000     199.390000      99.223250   \n709  2019-20               TOR  25.555556     198.261111      96.539497   \n710  2019-20               UTA  25.666667     196.285556      98.353865   \n711  2019-20               WAS  25.210526     197.718947      96.925448   \n\n    po_year  \n0      1997  \n1      1997  \n2      1997  \n3      1997  \n4      1997  \n..      ...  \n707    2020  \n708    2020  \n709    2020  \n710    2020  \n711    2020  \n\n[712 rows x 6 columns]",
      "text/html": "<div>\n<style scoped>\n    .dataframe tbody tr th:only-of-type {\n        vertical-align: middle;\n    }\n\n    .dataframe tbody tr th {\n        vertical-align: top;\n    }\n\n    .dataframe thead th {\n        text-align: right;\n    }\n</style>\n<table border=\"1\" class=\"dataframe\">\n  <thead>\n    <tr style=\"text-align: right;\">\n      <th></th>\n      <th>season</th>\n      <th>team_abbreviation</th>\n      <th>age</th>\n      <th>player_height</th>\n      <th>player_weight</th>\n      <th>po_year</th>\n    </tr>\n  </thead>\n  <tbody>\n    <tr>\n      <th>0</th>\n      <td>1996-97</td>\n      <td>ATL</td>\n      <td>27.529412</td>\n      <td>203.797647</td>\n      <td>103.098793</td>\n      <td>1997</td>\n    </tr>\n    <tr>\n      <th>1</th>\n      <td>1996-97</td>\n      <td>BOS</td>\n      <td>27.647059</td>\n      <td>200.510588</td>\n      <td>98.109281</td>\n      <td>1997</td>\n    </tr>\n    <tr>\n      <th>2</th>\n      <td>1996-97</td>\n      <td>CHH</td>\n      <td>30.230769</td>\n      <td>198.706154</td>\n      <td>99.755348</td>\n      <td>1997</td>\n    </tr>\n    <tr>\n      <th>3</th>\n      <td>1996-97</td>\n      <td>CHI</td>\n      <td>30.666667</td>\n      <td>203.369333</td>\n      <td>105.233344</td>\n      <td>1997</td>\n    </tr>\n    <tr>\n      <th>4</th>\n      <td>1996-97</td>\n      <td>CLE</td>\n      <td>26.615385</td>\n      <td>199.878462</td>\n      <td>100.976558</td>\n      <td>1997</td>\n    </tr>\n    <tr>\n      <th>...</th>\n      <td>...</td>\n      <td>...</td>\n      <td>...</td>\n      <td>...</td>\n      <td>...</td>\n      <td>...</td>\n    </tr>\n    <tr>\n      <th>707</th>\n      <td>2019-20</td>\n      <td>SAC</td>\n      <td>25.117647</td>\n      <td>199.763529</td>\n      <td>98.242691</td>\n      <td>2020</td>\n    </tr>\n    <tr>\n      <th>708</th>\n      <td>2019-20</td>\n      <td>SAS</td>\n      <td>25.750000</td>\n      <td>199.390000</td>\n      <td>99.223250</td>\n      <td>2020</td>\n    </tr>\n    <tr>\n      <th>709</th>\n      <td>2019-20</td>\n      <td>TOR</td>\n      <td>25.555556</td>\n      <td>198.261111</td>\n      <td>96.539497</td>\n      <td>2020</td>\n    </tr>\n    <tr>\n      <th>710</th>\n      <td>2019-20</td>\n      <td>UTA</td>\n      <td>25.666667</td>\n      <td>196.285556</td>\n      <td>98.353865</td>\n      <td>2020</td>\n    </tr>\n    <tr>\n      <th>711</th>\n      <td>2019-20</td>\n      <td>WAS</td>\n      <td>25.210526</td>\n      <td>197.718947</td>\n      <td>96.925448</td>\n      <td>2020</td>\n    </tr>\n  </tbody>\n</table>\n<p>712 rows × 6 columns</p>\n</div>"
     },
     "execution_count": 147,
     "metadata": {},
     "output_type": "execute_result"
    }
   ],
   "source": [
    "season_team_df['po_year'] = season_team_df['season'].apply(lambda x: x[:2] + x[-2:])\n",
    "# Works except for 2000\n",
    "season_team_df['po_year'] = season_team_df['po_year'].apply(lambda x: \"2000\" if x==\"1900\" else x)\n",
    "season_team_df"
   ],
   "metadata": {
    "collapsed": false,
    "pycharm": {
     "name": "#%%\n"
    }
   }
  },
  {
   "cell_type": "code",
   "execution_count": 148,
   "outputs": [],
   "source": [
    "# Ensure it's numeric\n",
    "season_team_df['po_year'] = pd.to_numeric(season_team_df['po_year'])"
   ],
   "metadata": {
    "collapsed": false,
    "pycharm": {
     "name": "#%%\n"
    }
   }
  },
  {
   "cell_type": "code",
   "execution_count": 149,
   "outputs": [],
   "source": [
    "import nbautil"
   ],
   "metadata": {
    "collapsed": false,
    "pycharm": {
     "name": "#%%\n"
    }
   }
  },
  {
   "cell_type": "code",
   "execution_count": 150,
   "outputs": [],
   "source": [
    "def get_full_name(row):\n",
    "    # Need a whole function because of Hornets vs Bobcats...\n",
    "    cur_abbr = row['team_abbreviation']\n",
    "    cur_year = row['po_year']\n",
    "    if cur_abbr == \"CHA\" and cur_year < 2015:\n",
    "        return \"Charlotte Bobcats\"\n",
    "    if cur_abbr == \"CHA\" and cur_year >= 2015:\n",
    "        return \"Charlotte Hornets\"\n",
    "    return nbautil.abbr_to_team[cur_abbr]\n",
    "\n",
    "season_team_df['team_full'] = season_team_df.apply(get_full_name, axis=1)"
   ],
   "metadata": {
    "collapsed": false,
    "pycharm": {
     "name": "#%%\n"
    }
   }
  },
  {
   "cell_type": "code",
   "execution_count": 151,
   "outputs": [],
   "source": [
    "# One correction: if 2015 playoffs onwards, Charlotte Bobcats->Hornets\n",
    "#season_team_df = season_team_df.apply(lambda x: \"Charlotte Hornets\" if ((x['team_full']==\"Charlotte Bobcats\") and x['po_year'] >= 2015) else x, axis=1)"
   ],
   "metadata": {
    "collapsed": false,
    "pycharm": {
     "name": "#%%\n"
    }
   }
  },
  {
   "cell_type": "code",
   "execution_count": 152,
   "outputs": [
    {
     "data": {
      "text/plain": "      season team_abbreviation        age  player_height  player_weight  \\\n0    1996-97               ATL  27.529412     203.797647     103.098793   \n1    1996-97               BOS  27.647059     200.510588      98.109281   \n2    1996-97               CHH  30.230769     198.706154      99.755348   \n3    1996-97               CHI  30.666667     203.369333     105.233344   \n4    1996-97               CLE  26.615385     199.878462     100.976558   \n..       ...               ...        ...            ...            ...   \n707  2019-20               SAC  25.117647     199.763529      98.242691   \n708  2019-20               SAS  25.750000     199.390000      99.223250   \n709  2019-20               TOR  25.555556     198.261111      96.539497   \n710  2019-20               UTA  25.666667     196.285556      98.353865   \n711  2019-20               WAS  25.210526     197.718947      96.925448   \n\n     po_year            team_full  \n0       1997        Atlanta Hawks  \n1       1997       Boston Celtics  \n2       1997    Charlotte Hornets  \n3       1997        Chicago Bulls  \n4       1997  Cleveland Cavaliers  \n..       ...                  ...  \n707     2020     Sacramento Kings  \n708     2020    San Antonio Spurs  \n709     2020      Toronto Raptors  \n710     2020            Utah Jazz  \n711     2020   Washington Wizards  \n\n[712 rows x 7 columns]",
      "text/html": "<div>\n<style scoped>\n    .dataframe tbody tr th:only-of-type {\n        vertical-align: middle;\n    }\n\n    .dataframe tbody tr th {\n        vertical-align: top;\n    }\n\n    .dataframe thead th {\n        text-align: right;\n    }\n</style>\n<table border=\"1\" class=\"dataframe\">\n  <thead>\n    <tr style=\"text-align: right;\">\n      <th></th>\n      <th>season</th>\n      <th>team_abbreviation</th>\n      <th>age</th>\n      <th>player_height</th>\n      <th>player_weight</th>\n      <th>po_year</th>\n      <th>team_full</th>\n    </tr>\n  </thead>\n  <tbody>\n    <tr>\n      <th>0</th>\n      <td>1996-97</td>\n      <td>ATL</td>\n      <td>27.529412</td>\n      <td>203.797647</td>\n      <td>103.098793</td>\n      <td>1997</td>\n      <td>Atlanta Hawks</td>\n    </tr>\n    <tr>\n      <th>1</th>\n      <td>1996-97</td>\n      <td>BOS</td>\n      <td>27.647059</td>\n      <td>200.510588</td>\n      <td>98.109281</td>\n      <td>1997</td>\n      <td>Boston Celtics</td>\n    </tr>\n    <tr>\n      <th>2</th>\n      <td>1996-97</td>\n      <td>CHH</td>\n      <td>30.230769</td>\n      <td>198.706154</td>\n      <td>99.755348</td>\n      <td>1997</td>\n      <td>Charlotte Hornets</td>\n    </tr>\n    <tr>\n      <th>3</th>\n      <td>1996-97</td>\n      <td>CHI</td>\n      <td>30.666667</td>\n      <td>203.369333</td>\n      <td>105.233344</td>\n      <td>1997</td>\n      <td>Chicago Bulls</td>\n    </tr>\n    <tr>\n      <th>4</th>\n      <td>1996-97</td>\n      <td>CLE</td>\n      <td>26.615385</td>\n      <td>199.878462</td>\n      <td>100.976558</td>\n      <td>1997</td>\n      <td>Cleveland Cavaliers</td>\n    </tr>\n    <tr>\n      <th>...</th>\n      <td>...</td>\n      <td>...</td>\n      <td>...</td>\n      <td>...</td>\n      <td>...</td>\n      <td>...</td>\n      <td>...</td>\n    </tr>\n    <tr>\n      <th>707</th>\n      <td>2019-20</td>\n      <td>SAC</td>\n      <td>25.117647</td>\n      <td>199.763529</td>\n      <td>98.242691</td>\n      <td>2020</td>\n      <td>Sacramento Kings</td>\n    </tr>\n    <tr>\n      <th>708</th>\n      <td>2019-20</td>\n      <td>SAS</td>\n      <td>25.750000</td>\n      <td>199.390000</td>\n      <td>99.223250</td>\n      <td>2020</td>\n      <td>San Antonio Spurs</td>\n    </tr>\n    <tr>\n      <th>709</th>\n      <td>2019-20</td>\n      <td>TOR</td>\n      <td>25.555556</td>\n      <td>198.261111</td>\n      <td>96.539497</td>\n      <td>2020</td>\n      <td>Toronto Raptors</td>\n    </tr>\n    <tr>\n      <th>710</th>\n      <td>2019-20</td>\n      <td>UTA</td>\n      <td>25.666667</td>\n      <td>196.285556</td>\n      <td>98.353865</td>\n      <td>2020</td>\n      <td>Utah Jazz</td>\n    </tr>\n    <tr>\n      <th>711</th>\n      <td>2019-20</td>\n      <td>WAS</td>\n      <td>25.210526</td>\n      <td>197.718947</td>\n      <td>96.925448</td>\n      <td>2020</td>\n      <td>Washington Wizards</td>\n    </tr>\n  </tbody>\n</table>\n<p>712 rows × 7 columns</p>\n</div>"
     },
     "execution_count": 152,
     "metadata": {},
     "output_type": "execute_result"
    }
   ],
   "source": [
    "season_team_df"
   ],
   "metadata": {
    "collapsed": false,
    "pycharm": {
     "name": "#%%\n"
    }
   }
  },
  {
   "cell_type": "code",
   "execution_count": 153,
   "outputs": [],
   "source": [
    "def made_playoffs(row):\n",
    "    row_year = row['po_year']\n",
    "    row_team = row['team_full']\n",
    "    return row_team in playoff_teams[row_year]"
   ],
   "metadata": {
    "collapsed": false,
    "pycharm": {
     "name": "#%%\n"
    }
   }
  },
  {
   "cell_type": "code",
   "execution_count": 154,
   "outputs": [
    {
     "data": {
      "text/plain": "      season team_abbreviation        age  player_height  player_weight  \\\n0    1996-97               ATL  27.529412     203.797647     103.098793   \n1    1996-97               BOS  27.647059     200.510588      98.109281   \n2    1996-97               CHH  30.230769     198.706154      99.755348   \n3    1996-97               CHI  30.666667     203.369333     105.233344   \n4    1996-97               CLE  26.615385     199.878462     100.976558   \n..       ...               ...        ...            ...            ...   \n707  2019-20               SAC  25.117647     199.763529      98.242691   \n708  2019-20               SAS  25.750000     199.390000      99.223250   \n709  2019-20               TOR  25.555556     198.261111      96.539497   \n710  2019-20               UTA  25.666667     196.285556      98.353865   \n711  2019-20               WAS  25.210526     197.718947      96.925448   \n\n     po_year            team_full  playoffs  \n0       1997        Atlanta Hawks      True  \n1       1997       Boston Celtics     False  \n2       1997    Charlotte Hornets      True  \n3       1997        Chicago Bulls      True  \n4       1997  Cleveland Cavaliers     False  \n..       ...                  ...       ...  \n707     2020     Sacramento Kings     False  \n708     2020    San Antonio Spurs     False  \n709     2020      Toronto Raptors      True  \n710     2020            Utah Jazz      True  \n711     2020   Washington Wizards     False  \n\n[712 rows x 8 columns]",
      "text/html": "<div>\n<style scoped>\n    .dataframe tbody tr th:only-of-type {\n        vertical-align: middle;\n    }\n\n    .dataframe tbody tr th {\n        vertical-align: top;\n    }\n\n    .dataframe thead th {\n        text-align: right;\n    }\n</style>\n<table border=\"1\" class=\"dataframe\">\n  <thead>\n    <tr style=\"text-align: right;\">\n      <th></th>\n      <th>season</th>\n      <th>team_abbreviation</th>\n      <th>age</th>\n      <th>player_height</th>\n      <th>player_weight</th>\n      <th>po_year</th>\n      <th>team_full</th>\n      <th>playoffs</th>\n    </tr>\n  </thead>\n  <tbody>\n    <tr>\n      <th>0</th>\n      <td>1996-97</td>\n      <td>ATL</td>\n      <td>27.529412</td>\n      <td>203.797647</td>\n      <td>103.098793</td>\n      <td>1997</td>\n      <td>Atlanta Hawks</td>\n      <td>True</td>\n    </tr>\n    <tr>\n      <th>1</th>\n      <td>1996-97</td>\n      <td>BOS</td>\n      <td>27.647059</td>\n      <td>200.510588</td>\n      <td>98.109281</td>\n      <td>1997</td>\n      <td>Boston Celtics</td>\n      <td>False</td>\n    </tr>\n    <tr>\n      <th>2</th>\n      <td>1996-97</td>\n      <td>CHH</td>\n      <td>30.230769</td>\n      <td>198.706154</td>\n      <td>99.755348</td>\n      <td>1997</td>\n      <td>Charlotte Hornets</td>\n      <td>True</td>\n    </tr>\n    <tr>\n      <th>3</th>\n      <td>1996-97</td>\n      <td>CHI</td>\n      <td>30.666667</td>\n      <td>203.369333</td>\n      <td>105.233344</td>\n      <td>1997</td>\n      <td>Chicago Bulls</td>\n      <td>True</td>\n    </tr>\n    <tr>\n      <th>4</th>\n      <td>1996-97</td>\n      <td>CLE</td>\n      <td>26.615385</td>\n      <td>199.878462</td>\n      <td>100.976558</td>\n      <td>1997</td>\n      <td>Cleveland Cavaliers</td>\n      <td>False</td>\n    </tr>\n    <tr>\n      <th>...</th>\n      <td>...</td>\n      <td>...</td>\n      <td>...</td>\n      <td>...</td>\n      <td>...</td>\n      <td>...</td>\n      <td>...</td>\n      <td>...</td>\n    </tr>\n    <tr>\n      <th>707</th>\n      <td>2019-20</td>\n      <td>SAC</td>\n      <td>25.117647</td>\n      <td>199.763529</td>\n      <td>98.242691</td>\n      <td>2020</td>\n      <td>Sacramento Kings</td>\n      <td>False</td>\n    </tr>\n    <tr>\n      <th>708</th>\n      <td>2019-20</td>\n      <td>SAS</td>\n      <td>25.750000</td>\n      <td>199.390000</td>\n      <td>99.223250</td>\n      <td>2020</td>\n      <td>San Antonio Spurs</td>\n      <td>False</td>\n    </tr>\n    <tr>\n      <th>709</th>\n      <td>2019-20</td>\n      <td>TOR</td>\n      <td>25.555556</td>\n      <td>198.261111</td>\n      <td>96.539497</td>\n      <td>2020</td>\n      <td>Toronto Raptors</td>\n      <td>True</td>\n    </tr>\n    <tr>\n      <th>710</th>\n      <td>2019-20</td>\n      <td>UTA</td>\n      <td>25.666667</td>\n      <td>196.285556</td>\n      <td>98.353865</td>\n      <td>2020</td>\n      <td>Utah Jazz</td>\n      <td>True</td>\n    </tr>\n    <tr>\n      <th>711</th>\n      <td>2019-20</td>\n      <td>WAS</td>\n      <td>25.210526</td>\n      <td>197.718947</td>\n      <td>96.925448</td>\n      <td>2020</td>\n      <td>Washington Wizards</td>\n      <td>False</td>\n    </tr>\n  </tbody>\n</table>\n<p>712 rows × 8 columns</p>\n</div>"
     },
     "execution_count": 154,
     "metadata": {},
     "output_type": "execute_result"
    }
   ],
   "source": [
    "season_team_df['playoffs'] = season_team_df.apply(made_playoffs, axis=1)\n",
    "season_team_df"
   ],
   "metadata": {
    "collapsed": false,
    "pycharm": {
     "name": "#%%\n"
    }
   }
  },
  {
   "cell_type": "code",
   "execution_count": 155,
   "outputs": [
    {
     "data": {
      "text/plain": "         season  team_abbreviation  age  player_height  player_weight  \\\npo_year                                                                 \n1997         16                 16   16             16             16   \n1998         16                 16   16             16             16   \n1999         16                 16   16             16             16   \n2000         16                 16   16             16             16   \n2001         16                 16   16             16             16   \n2002         16                 16   16             16             16   \n2003         16                 16   16             16             16   \n2004         16                 16   16             16             16   \n2005         16                 16   16             16             16   \n2006         16                 16   16             16             16   \n2007         16                 16   16             16             16   \n2008         16                 16   16             16             16   \n2009         16                 16   16             16             16   \n2010         16                 16   16             16             16   \n2011         16                 16   16             16             16   \n2012         16                 16   16             16             16   \n2013         16                 16   16             16             16   \n2014         16                 16   16             16             16   \n2015         16                 16   16             16             16   \n2016         16                 16   16             16             16   \n2017         16                 16   16             16             16   \n2018         16                 16   16             16             16   \n2019         16                 16   16             16             16   \n2020         16                 16   16             16             16   \n\n         team_full  playoffs  \npo_year                       \n1997            16        16  \n1998            16        16  \n1999            16        16  \n2000            16        16  \n2001            16        16  \n2002            16        16  \n2003            16        16  \n2004            16        16  \n2005            16        16  \n2006            16        16  \n2007            16        16  \n2008            16        16  \n2009            16        16  \n2010            16        16  \n2011            16        16  \n2012            16        16  \n2013            16        16  \n2014            16        16  \n2015            16        16  \n2016            16        16  \n2017            16        16  \n2018            16        16  \n2019            16        16  \n2020            16        16  ",
      "text/html": "<div>\n<style scoped>\n    .dataframe tbody tr th:only-of-type {\n        vertical-align: middle;\n    }\n\n    .dataframe tbody tr th {\n        vertical-align: top;\n    }\n\n    .dataframe thead th {\n        text-align: right;\n    }\n</style>\n<table border=\"1\" class=\"dataframe\">\n  <thead>\n    <tr style=\"text-align: right;\">\n      <th></th>\n      <th>season</th>\n      <th>team_abbreviation</th>\n      <th>age</th>\n      <th>player_height</th>\n      <th>player_weight</th>\n      <th>team_full</th>\n      <th>playoffs</th>\n    </tr>\n    <tr>\n      <th>po_year</th>\n      <th></th>\n      <th></th>\n      <th></th>\n      <th></th>\n      <th></th>\n      <th></th>\n      <th></th>\n    </tr>\n  </thead>\n  <tbody>\n    <tr>\n      <th>1997</th>\n      <td>16</td>\n      <td>16</td>\n      <td>16</td>\n      <td>16</td>\n      <td>16</td>\n      <td>16</td>\n      <td>16</td>\n    </tr>\n    <tr>\n      <th>1998</th>\n      <td>16</td>\n      <td>16</td>\n      <td>16</td>\n      <td>16</td>\n      <td>16</td>\n      <td>16</td>\n      <td>16</td>\n    </tr>\n    <tr>\n      <th>1999</th>\n      <td>16</td>\n      <td>16</td>\n      <td>16</td>\n      <td>16</td>\n      <td>16</td>\n      <td>16</td>\n      <td>16</td>\n    </tr>\n    <tr>\n      <th>2000</th>\n      <td>16</td>\n      <td>16</td>\n      <td>16</td>\n      <td>16</td>\n      <td>16</td>\n      <td>16</td>\n      <td>16</td>\n    </tr>\n    <tr>\n      <th>2001</th>\n      <td>16</td>\n      <td>16</td>\n      <td>16</td>\n      <td>16</td>\n      <td>16</td>\n      <td>16</td>\n      <td>16</td>\n    </tr>\n    <tr>\n      <th>2002</th>\n      <td>16</td>\n      <td>16</td>\n      <td>16</td>\n      <td>16</td>\n      <td>16</td>\n      <td>16</td>\n      <td>16</td>\n    </tr>\n    <tr>\n      <th>2003</th>\n      <td>16</td>\n      <td>16</td>\n      <td>16</td>\n      <td>16</td>\n      <td>16</td>\n      <td>16</td>\n      <td>16</td>\n    </tr>\n    <tr>\n      <th>2004</th>\n      <td>16</td>\n      <td>16</td>\n      <td>16</td>\n      <td>16</td>\n      <td>16</td>\n      <td>16</td>\n      <td>16</td>\n    </tr>\n    <tr>\n      <th>2005</th>\n      <td>16</td>\n      <td>16</td>\n      <td>16</td>\n      <td>16</td>\n      <td>16</td>\n      <td>16</td>\n      <td>16</td>\n    </tr>\n    <tr>\n      <th>2006</th>\n      <td>16</td>\n      <td>16</td>\n      <td>16</td>\n      <td>16</td>\n      <td>16</td>\n      <td>16</td>\n      <td>16</td>\n    </tr>\n    <tr>\n      <th>2007</th>\n      <td>16</td>\n      <td>16</td>\n      <td>16</td>\n      <td>16</td>\n      <td>16</td>\n      <td>16</td>\n      <td>16</td>\n    </tr>\n    <tr>\n      <th>2008</th>\n      <td>16</td>\n      <td>16</td>\n      <td>16</td>\n      <td>16</td>\n      <td>16</td>\n      <td>16</td>\n      <td>16</td>\n    </tr>\n    <tr>\n      <th>2009</th>\n      <td>16</td>\n      <td>16</td>\n      <td>16</td>\n      <td>16</td>\n      <td>16</td>\n      <td>16</td>\n      <td>16</td>\n    </tr>\n    <tr>\n      <th>2010</th>\n      <td>16</td>\n      <td>16</td>\n      <td>16</td>\n      <td>16</td>\n      <td>16</td>\n      <td>16</td>\n      <td>16</td>\n    </tr>\n    <tr>\n      <th>2011</th>\n      <td>16</td>\n      <td>16</td>\n      <td>16</td>\n      <td>16</td>\n      <td>16</td>\n      <td>16</td>\n      <td>16</td>\n    </tr>\n    <tr>\n      <th>2012</th>\n      <td>16</td>\n      <td>16</td>\n      <td>16</td>\n      <td>16</td>\n      <td>16</td>\n      <td>16</td>\n      <td>16</td>\n    </tr>\n    <tr>\n      <th>2013</th>\n      <td>16</td>\n      <td>16</td>\n      <td>16</td>\n      <td>16</td>\n      <td>16</td>\n      <td>16</td>\n      <td>16</td>\n    </tr>\n    <tr>\n      <th>2014</th>\n      <td>16</td>\n      <td>16</td>\n      <td>16</td>\n      <td>16</td>\n      <td>16</td>\n      <td>16</td>\n      <td>16</td>\n    </tr>\n    <tr>\n      <th>2015</th>\n      <td>16</td>\n      <td>16</td>\n      <td>16</td>\n      <td>16</td>\n      <td>16</td>\n      <td>16</td>\n      <td>16</td>\n    </tr>\n    <tr>\n      <th>2016</th>\n      <td>16</td>\n      <td>16</td>\n      <td>16</td>\n      <td>16</td>\n      <td>16</td>\n      <td>16</td>\n      <td>16</td>\n    </tr>\n    <tr>\n      <th>2017</th>\n      <td>16</td>\n      <td>16</td>\n      <td>16</td>\n      <td>16</td>\n      <td>16</td>\n      <td>16</td>\n      <td>16</td>\n    </tr>\n    <tr>\n      <th>2018</th>\n      <td>16</td>\n      <td>16</td>\n      <td>16</td>\n      <td>16</td>\n      <td>16</td>\n      <td>16</td>\n      <td>16</td>\n    </tr>\n    <tr>\n      <th>2019</th>\n      <td>16</td>\n      <td>16</td>\n      <td>16</td>\n      <td>16</td>\n      <td>16</td>\n      <td>16</td>\n      <td>16</td>\n    </tr>\n    <tr>\n      <th>2020</th>\n      <td>16</td>\n      <td>16</td>\n      <td>16</td>\n      <td>16</td>\n      <td>16</td>\n      <td>16</td>\n      <td>16</td>\n    </tr>\n  </tbody>\n</table>\n</div>"
     },
     "execution_count": 155,
     "metadata": {},
     "output_type": "execute_result"
    }
   ],
   "source": [
    "# Sanity check: playoff teams per year\n",
    "season_team_df[season_team_df['playoffs']].groupby(['po_year']).count()"
   ],
   "metadata": {
    "collapsed": false,
    "pycharm": {
     "name": "#%%\n"
    }
   }
  },
  {
   "cell_type": "code",
   "execution_count": 156,
   "outputs": [
    {
     "data": {
      "text/plain": "      season team_abbreviation        age  player_height  player_weight  \\\n502  2013-14               ATL  27.125000     200.501250     102.568491   \n503  2013-14               BKN  29.529412     200.660000     101.097652   \n504  2013-14               BOS  26.250000     198.596250      99.931988   \n505  2013-14               CHA  26.866667     198.966667     100.999819   \n506  2013-14               CHI  28.625000     200.025000      98.627910   \n507  2013-14               CLE  24.888889     200.660000     101.730606   \n508  2013-14               DAL  28.733333     198.289333      98.217788   \n509  2013-14               DEN  25.714286     200.478571      99.660642   \n510  2013-14               DET  26.066667     199.644000     100.455508   \n511  2013-14               GSW  27.285714     202.111429     100.179033   \n512  2013-14               HOU  25.125000     201.453750     101.009269   \n513  2013-14               IND  27.733333     202.353333     105.324062   \n514  2013-14               LAC  29.777778     199.672222      99.412247   \n515  2013-14               LAL  27.333333     200.942222      98.429464   \n516  2013-14               MEM  27.750000     200.977500     100.810822   \n517  2013-14               MIA  30.294118     201.257647     101.311107   \n518  2013-14               MIL  24.875000     202.427500     100.235704   \n519  2013-14               MIN  26.625000     200.660000      97.692377   \n520  2013-14               NOP  25.894737     203.333684     101.246509   \n521  2013-14               NYK  28.411765     201.257647     102.031518   \n522  2013-14               OKC  27.500000     201.384444     102.073262   \n523  2013-14               ORL  25.500000     200.478571     102.252597   \n524  2013-14               PHI  23.722222     200.118889      99.250912   \n525  2013-14               PHX  26.133333     200.829333     100.274071   \n526  2013-14               POR  25.800000     201.168000      97.522280   \n527  2013-14               SAC  25.750000     201.453750     103.900918   \n528  2013-14               SAS  28.800000     200.829333     100.848621   \n529  2013-14               TOR  26.866667     199.813333      98.127069   \n530  2013-14               UTA  26.352941     200.211765      99.149875   \n531  2013-14               WAS  27.333333     202.184000     102.118679   \n\n     po_year               team_full  playoffs  \n502     2014           Atlanta Hawks      True  \n503     2014           Brooklyn Nets      True  \n504     2014          Boston Celtics     False  \n505     2014       Charlotte Bobcats      True  \n506     2014           Chicago Bulls      True  \n507     2014     Cleveland Cavaliers     False  \n508     2014        Dallas Mavericks      True  \n509     2014          Denver Nuggets     False  \n510     2014         Detroit Pistons     False  \n511     2014   Golden State Warriors      True  \n512     2014         Houston Rockets      True  \n513     2014          Indiana Pacers      True  \n514     2014    Los Angeles Clippers      True  \n515     2014      Los Angeles Lakers     False  \n516     2014       Memphis Grizzlies      True  \n517     2014              Miami Heat      True  \n518     2014         Milwaukee Bucks     False  \n519     2014  Minnesota Timberwolves     False  \n520     2014    New Orleans Pelicans     False  \n521     2014         New York Knicks     False  \n522     2014   Oklahoma City Thunder      True  \n523     2014           Orlando Magic     False  \n524     2014      Philadelphia 76ers     False  \n525     2014            Phoenix Suns     False  \n526     2014  Portland Trail Blazers      True  \n527     2014        Sacramento Kings     False  \n528     2014       San Antonio Spurs      True  \n529     2014         Toronto Raptors      True  \n530     2014               Utah Jazz     False  \n531     2014      Washington Wizards      True  ",
      "text/html": "<div>\n<style scoped>\n    .dataframe tbody tr th:only-of-type {\n        vertical-align: middle;\n    }\n\n    .dataframe tbody tr th {\n        vertical-align: top;\n    }\n\n    .dataframe thead th {\n        text-align: right;\n    }\n</style>\n<table border=\"1\" class=\"dataframe\">\n  <thead>\n    <tr style=\"text-align: right;\">\n      <th></th>\n      <th>season</th>\n      <th>team_abbreviation</th>\n      <th>age</th>\n      <th>player_height</th>\n      <th>player_weight</th>\n      <th>po_year</th>\n      <th>team_full</th>\n      <th>playoffs</th>\n    </tr>\n  </thead>\n  <tbody>\n    <tr>\n      <th>502</th>\n      <td>2013-14</td>\n      <td>ATL</td>\n      <td>27.125000</td>\n      <td>200.501250</td>\n      <td>102.568491</td>\n      <td>2014</td>\n      <td>Atlanta Hawks</td>\n      <td>True</td>\n    </tr>\n    <tr>\n      <th>503</th>\n      <td>2013-14</td>\n      <td>BKN</td>\n      <td>29.529412</td>\n      <td>200.660000</td>\n      <td>101.097652</td>\n      <td>2014</td>\n      <td>Brooklyn Nets</td>\n      <td>True</td>\n    </tr>\n    <tr>\n      <th>504</th>\n      <td>2013-14</td>\n      <td>BOS</td>\n      <td>26.250000</td>\n      <td>198.596250</td>\n      <td>99.931988</td>\n      <td>2014</td>\n      <td>Boston Celtics</td>\n      <td>False</td>\n    </tr>\n    <tr>\n      <th>505</th>\n      <td>2013-14</td>\n      <td>CHA</td>\n      <td>26.866667</td>\n      <td>198.966667</td>\n      <td>100.999819</td>\n      <td>2014</td>\n      <td>Charlotte Bobcats</td>\n      <td>True</td>\n    </tr>\n    <tr>\n      <th>506</th>\n      <td>2013-14</td>\n      <td>CHI</td>\n      <td>28.625000</td>\n      <td>200.025000</td>\n      <td>98.627910</td>\n      <td>2014</td>\n      <td>Chicago Bulls</td>\n      <td>True</td>\n    </tr>\n    <tr>\n      <th>507</th>\n      <td>2013-14</td>\n      <td>CLE</td>\n      <td>24.888889</td>\n      <td>200.660000</td>\n      <td>101.730606</td>\n      <td>2014</td>\n      <td>Cleveland Cavaliers</td>\n      <td>False</td>\n    </tr>\n    <tr>\n      <th>508</th>\n      <td>2013-14</td>\n      <td>DAL</td>\n      <td>28.733333</td>\n      <td>198.289333</td>\n      <td>98.217788</td>\n      <td>2014</td>\n      <td>Dallas Mavericks</td>\n      <td>True</td>\n    </tr>\n    <tr>\n      <th>509</th>\n      <td>2013-14</td>\n      <td>DEN</td>\n      <td>25.714286</td>\n      <td>200.478571</td>\n      <td>99.660642</td>\n      <td>2014</td>\n      <td>Denver Nuggets</td>\n      <td>False</td>\n    </tr>\n    <tr>\n      <th>510</th>\n      <td>2013-14</td>\n      <td>DET</td>\n      <td>26.066667</td>\n      <td>199.644000</td>\n      <td>100.455508</td>\n      <td>2014</td>\n      <td>Detroit Pistons</td>\n      <td>False</td>\n    </tr>\n    <tr>\n      <th>511</th>\n      <td>2013-14</td>\n      <td>GSW</td>\n      <td>27.285714</td>\n      <td>202.111429</td>\n      <td>100.179033</td>\n      <td>2014</td>\n      <td>Golden State Warriors</td>\n      <td>True</td>\n    </tr>\n    <tr>\n      <th>512</th>\n      <td>2013-14</td>\n      <td>HOU</td>\n      <td>25.125000</td>\n      <td>201.453750</td>\n      <td>101.009269</td>\n      <td>2014</td>\n      <td>Houston Rockets</td>\n      <td>True</td>\n    </tr>\n    <tr>\n      <th>513</th>\n      <td>2013-14</td>\n      <td>IND</td>\n      <td>27.733333</td>\n      <td>202.353333</td>\n      <td>105.324062</td>\n      <td>2014</td>\n      <td>Indiana Pacers</td>\n      <td>True</td>\n    </tr>\n    <tr>\n      <th>514</th>\n      <td>2013-14</td>\n      <td>LAC</td>\n      <td>29.777778</td>\n      <td>199.672222</td>\n      <td>99.412247</td>\n      <td>2014</td>\n      <td>Los Angeles Clippers</td>\n      <td>True</td>\n    </tr>\n    <tr>\n      <th>515</th>\n      <td>2013-14</td>\n      <td>LAL</td>\n      <td>27.333333</td>\n      <td>200.942222</td>\n      <td>98.429464</td>\n      <td>2014</td>\n      <td>Los Angeles Lakers</td>\n      <td>False</td>\n    </tr>\n    <tr>\n      <th>516</th>\n      <td>2013-14</td>\n      <td>MEM</td>\n      <td>27.750000</td>\n      <td>200.977500</td>\n      <td>100.810822</td>\n      <td>2014</td>\n      <td>Memphis Grizzlies</td>\n      <td>True</td>\n    </tr>\n    <tr>\n      <th>517</th>\n      <td>2013-14</td>\n      <td>MIA</td>\n      <td>30.294118</td>\n      <td>201.257647</td>\n      <td>101.311107</td>\n      <td>2014</td>\n      <td>Miami Heat</td>\n      <td>True</td>\n    </tr>\n    <tr>\n      <th>518</th>\n      <td>2013-14</td>\n      <td>MIL</td>\n      <td>24.875000</td>\n      <td>202.427500</td>\n      <td>100.235704</td>\n      <td>2014</td>\n      <td>Milwaukee Bucks</td>\n      <td>False</td>\n    </tr>\n    <tr>\n      <th>519</th>\n      <td>2013-14</td>\n      <td>MIN</td>\n      <td>26.625000</td>\n      <td>200.660000</td>\n      <td>97.692377</td>\n      <td>2014</td>\n      <td>Minnesota Timberwolves</td>\n      <td>False</td>\n    </tr>\n    <tr>\n      <th>520</th>\n      <td>2013-14</td>\n      <td>NOP</td>\n      <td>25.894737</td>\n      <td>203.333684</td>\n      <td>101.246509</td>\n      <td>2014</td>\n      <td>New Orleans Pelicans</td>\n      <td>False</td>\n    </tr>\n    <tr>\n      <th>521</th>\n      <td>2013-14</td>\n      <td>NYK</td>\n      <td>28.411765</td>\n      <td>201.257647</td>\n      <td>102.031518</td>\n      <td>2014</td>\n      <td>New York Knicks</td>\n      <td>False</td>\n    </tr>\n    <tr>\n      <th>522</th>\n      <td>2013-14</td>\n      <td>OKC</td>\n      <td>27.500000</td>\n      <td>201.384444</td>\n      <td>102.073262</td>\n      <td>2014</td>\n      <td>Oklahoma City Thunder</td>\n      <td>True</td>\n    </tr>\n    <tr>\n      <th>523</th>\n      <td>2013-14</td>\n      <td>ORL</td>\n      <td>25.500000</td>\n      <td>200.478571</td>\n      <td>102.252597</td>\n      <td>2014</td>\n      <td>Orlando Magic</td>\n      <td>False</td>\n    </tr>\n    <tr>\n      <th>524</th>\n      <td>2013-14</td>\n      <td>PHI</td>\n      <td>23.722222</td>\n      <td>200.118889</td>\n      <td>99.250912</td>\n      <td>2014</td>\n      <td>Philadelphia 76ers</td>\n      <td>False</td>\n    </tr>\n    <tr>\n      <th>525</th>\n      <td>2013-14</td>\n      <td>PHX</td>\n      <td>26.133333</td>\n      <td>200.829333</td>\n      <td>100.274071</td>\n      <td>2014</td>\n      <td>Phoenix Suns</td>\n      <td>False</td>\n    </tr>\n    <tr>\n      <th>526</th>\n      <td>2013-14</td>\n      <td>POR</td>\n      <td>25.800000</td>\n      <td>201.168000</td>\n      <td>97.522280</td>\n      <td>2014</td>\n      <td>Portland Trail Blazers</td>\n      <td>True</td>\n    </tr>\n    <tr>\n      <th>527</th>\n      <td>2013-14</td>\n      <td>SAC</td>\n      <td>25.750000</td>\n      <td>201.453750</td>\n      <td>103.900918</td>\n      <td>2014</td>\n      <td>Sacramento Kings</td>\n      <td>False</td>\n    </tr>\n    <tr>\n      <th>528</th>\n      <td>2013-14</td>\n      <td>SAS</td>\n      <td>28.800000</td>\n      <td>200.829333</td>\n      <td>100.848621</td>\n      <td>2014</td>\n      <td>San Antonio Spurs</td>\n      <td>True</td>\n    </tr>\n    <tr>\n      <th>529</th>\n      <td>2013-14</td>\n      <td>TOR</td>\n      <td>26.866667</td>\n      <td>199.813333</td>\n      <td>98.127069</td>\n      <td>2014</td>\n      <td>Toronto Raptors</td>\n      <td>True</td>\n    </tr>\n    <tr>\n      <th>530</th>\n      <td>2013-14</td>\n      <td>UTA</td>\n      <td>26.352941</td>\n      <td>200.211765</td>\n      <td>99.149875</td>\n      <td>2014</td>\n      <td>Utah Jazz</td>\n      <td>False</td>\n    </tr>\n    <tr>\n      <th>531</th>\n      <td>2013-14</td>\n      <td>WAS</td>\n      <td>27.333333</td>\n      <td>202.184000</td>\n      <td>102.118679</td>\n      <td>2014</td>\n      <td>Washington Wizards</td>\n      <td>True</td>\n    </tr>\n  </tbody>\n</table>\n</div>"
     },
     "execution_count": 156,
     "metadata": {},
     "output_type": "execute_result"
    }
   ],
   "source": [
    "season_team_df[season_team_df['po_year'] == 2014]"
   ],
   "metadata": {
    "collapsed": false,
    "pycharm": {
     "name": "#%%\n"
    }
   }
  },
  {
   "cell_type": "code",
   "execution_count": 157,
   "outputs": [
    {
     "data": {
      "text/plain": "{'Atlanta Hawks',\n 'Brooklyn Nets',\n 'Charlotte Bobcats',\n 'Chicago Bulls',\n 'Dallas Mavericks',\n 'Golden State Warriors',\n 'Houston Rockets',\n 'Indiana Pacers',\n 'Los Angeles Clippers',\n 'Memphis Grizzlies',\n 'Miami Heat',\n 'Oklahoma City Thunder',\n 'Portland Trail Blazers',\n 'San Antonio Spurs',\n 'Toronto Raptors',\n 'Washington Wizards'}"
     },
     "execution_count": 157,
     "metadata": {},
     "output_type": "execute_result"
    }
   ],
   "source": [
    "playoff_teams[2014]"
   ],
   "metadata": {
    "collapsed": false,
    "pycharm": {
     "name": "#%%\n"
    }
   }
  },
  {
   "cell_type": "code",
   "execution_count": 158,
   "outputs": [
    {
     "data": {
      "text/plain": "      season team_abbreviation        age  player_height  player_weight  \\\n0    1996-97               ATL  27.529412     203.797647     103.098793   \n1    1996-97               BOS  27.647059     200.510588      98.109281   \n2    1996-97               CHH  30.230769     198.706154      99.755348   \n3    1996-97               CHI  30.666667     203.369333     105.233344   \n4    1996-97               CLE  26.615385     199.878462     100.976558   \n..       ...               ...        ...            ...            ...   \n707  2019-20               SAC  25.117647     199.763529      98.242691   \n708  2019-20               SAS  25.750000     199.390000      99.223250   \n709  2019-20               TOR  25.555556     198.261111      96.539497   \n710  2019-20               UTA  25.666667     196.285556      98.353865   \n711  2019-20               WAS  25.210526     197.718947      96.925448   \n\n     po_year            team_full  playoffs  \n0       1997        Atlanta Hawks      True  \n1       1997       Boston Celtics     False  \n2       1997    Charlotte Hornets      True  \n3       1997        Chicago Bulls      True  \n4       1997  Cleveland Cavaliers     False  \n..       ...                  ...       ...  \n707     2020     Sacramento Kings     False  \n708     2020    San Antonio Spurs     False  \n709     2020      Toronto Raptors      True  \n710     2020            Utah Jazz      True  \n711     2020   Washington Wizards     False  \n\n[712 rows x 8 columns]",
      "text/html": "<div>\n<style scoped>\n    .dataframe tbody tr th:only-of-type {\n        vertical-align: middle;\n    }\n\n    .dataframe tbody tr th {\n        vertical-align: top;\n    }\n\n    .dataframe thead th {\n        text-align: right;\n    }\n</style>\n<table border=\"1\" class=\"dataframe\">\n  <thead>\n    <tr style=\"text-align: right;\">\n      <th></th>\n      <th>season</th>\n      <th>team_abbreviation</th>\n      <th>age</th>\n      <th>player_height</th>\n      <th>player_weight</th>\n      <th>po_year</th>\n      <th>team_full</th>\n      <th>playoffs</th>\n    </tr>\n  </thead>\n  <tbody>\n    <tr>\n      <th>0</th>\n      <td>1996-97</td>\n      <td>ATL</td>\n      <td>27.529412</td>\n      <td>203.797647</td>\n      <td>103.098793</td>\n      <td>1997</td>\n      <td>Atlanta Hawks</td>\n      <td>True</td>\n    </tr>\n    <tr>\n      <th>1</th>\n      <td>1996-97</td>\n      <td>BOS</td>\n      <td>27.647059</td>\n      <td>200.510588</td>\n      <td>98.109281</td>\n      <td>1997</td>\n      <td>Boston Celtics</td>\n      <td>False</td>\n    </tr>\n    <tr>\n      <th>2</th>\n      <td>1996-97</td>\n      <td>CHH</td>\n      <td>30.230769</td>\n      <td>198.706154</td>\n      <td>99.755348</td>\n      <td>1997</td>\n      <td>Charlotte Hornets</td>\n      <td>True</td>\n    </tr>\n    <tr>\n      <th>3</th>\n      <td>1996-97</td>\n      <td>CHI</td>\n      <td>30.666667</td>\n      <td>203.369333</td>\n      <td>105.233344</td>\n      <td>1997</td>\n      <td>Chicago Bulls</td>\n      <td>True</td>\n    </tr>\n    <tr>\n      <th>4</th>\n      <td>1996-97</td>\n      <td>CLE</td>\n      <td>26.615385</td>\n      <td>199.878462</td>\n      <td>100.976558</td>\n      <td>1997</td>\n      <td>Cleveland Cavaliers</td>\n      <td>False</td>\n    </tr>\n    <tr>\n      <th>...</th>\n      <td>...</td>\n      <td>...</td>\n      <td>...</td>\n      <td>...</td>\n      <td>...</td>\n      <td>...</td>\n      <td>...</td>\n      <td>...</td>\n    </tr>\n    <tr>\n      <th>707</th>\n      <td>2019-20</td>\n      <td>SAC</td>\n      <td>25.117647</td>\n      <td>199.763529</td>\n      <td>98.242691</td>\n      <td>2020</td>\n      <td>Sacramento Kings</td>\n      <td>False</td>\n    </tr>\n    <tr>\n      <th>708</th>\n      <td>2019-20</td>\n      <td>SAS</td>\n      <td>25.750000</td>\n      <td>199.390000</td>\n      <td>99.223250</td>\n      <td>2020</td>\n      <td>San Antonio Spurs</td>\n      <td>False</td>\n    </tr>\n    <tr>\n      <th>709</th>\n      <td>2019-20</td>\n      <td>TOR</td>\n      <td>25.555556</td>\n      <td>198.261111</td>\n      <td>96.539497</td>\n      <td>2020</td>\n      <td>Toronto Raptors</td>\n      <td>True</td>\n    </tr>\n    <tr>\n      <th>710</th>\n      <td>2019-20</td>\n      <td>UTA</td>\n      <td>25.666667</td>\n      <td>196.285556</td>\n      <td>98.353865</td>\n      <td>2020</td>\n      <td>Utah Jazz</td>\n      <td>True</td>\n    </tr>\n    <tr>\n      <th>711</th>\n      <td>2019-20</td>\n      <td>WAS</td>\n      <td>25.210526</td>\n      <td>197.718947</td>\n      <td>96.925448</td>\n      <td>2020</td>\n      <td>Washington Wizards</td>\n      <td>False</td>\n    </tr>\n  </tbody>\n</table>\n<p>712 rows × 8 columns</p>\n</div>"
     },
     "execution_count": 158,
     "metadata": {},
     "output_type": "execute_result"
    }
   ],
   "source": [
    "season_team_df"
   ],
   "metadata": {
    "collapsed": false,
    "pycharm": {
     "name": "#%%\n"
    }
   }
  },
  {
   "cell_type": "code",
   "execution_count": 159,
   "outputs": [],
   "source": [
    "# Only have team stats for po_year 1998 onwards, so drop before\n",
    "season_team_df = season_team_df[season_team_df['po_year'] >= 1998].copy()"
   ],
   "metadata": {
    "collapsed": false,
    "pycharm": {
     "name": "#%%\n"
    }
   }
  },
  {
   "cell_type": "code",
   "execution_count": 160,
   "outputs": [],
   "source": [
    "# Making a unique key\n",
    "season_team_df['po_year_str'] = season_team_df['po_year'].apply(lambda x: str(x))\n",
    "season_team_df['year_team'] = season_team_df['po_year_str'] + \"_\" + season_team_df['team_full']"
   ],
   "metadata": {
    "collapsed": false,
    "pycharm": {
     "name": "#%%\n"
    }
   }
  },
  {
   "cell_type": "code",
   "execution_count": 161,
   "outputs": [
    {
     "data": {
      "text/plain": "      season team_abbreviation        age  player_height  player_weight  \\\n29   1997-98               ATL  28.250000     199.231250      99.166551   \n30   1997-98               BOS  25.857143     200.297143      95.027524   \n31   1997-98               CHH  29.733333     200.829333     101.755805   \n32   1997-98               CHI  30.600000     201.337333     103.691131   \n33   1997-98               CLE  26.375000     199.231250      96.756844   \n..       ...               ...        ...            ...            ...   \n707  2019-20               SAC  25.117647     199.763529      98.242691   \n708  2019-20               SAS  25.750000     199.390000      99.223250   \n709  2019-20               TOR  25.555556     198.261111      96.539497   \n710  2019-20               UTA  25.666667     196.285556      98.353865   \n711  2019-20               WAS  25.210526     197.718947      96.925448   \n\n     po_year            team_full  playoffs po_year_str  \\\n29      1998        Atlanta Hawks      True        1998   \n30      1998       Boston Celtics     False        1998   \n31      1998    Charlotte Hornets      True        1998   \n32      1998        Chicago Bulls      True        1998   \n33      1998  Cleveland Cavaliers      True        1998   \n..       ...                  ...       ...         ...   \n707     2020     Sacramento Kings     False        2020   \n708     2020    San Antonio Spurs     False        2020   \n709     2020      Toronto Raptors      True        2020   \n710     2020            Utah Jazz      True        2020   \n711     2020   Washington Wizards     False        2020   \n\n                    year_team  \n29         1998_Atlanta Hawks  \n30        1998_Boston Celtics  \n31     1998_Charlotte Hornets  \n32         1998_Chicago Bulls  \n33   1998_Cleveland Cavaliers  \n..                        ...  \n707     2020_Sacramento Kings  \n708    2020_San Antonio Spurs  \n709      2020_Toronto Raptors  \n710            2020_Utah Jazz  \n711   2020_Washington Wizards  \n\n[683 rows x 10 columns]",
      "text/html": "<div>\n<style scoped>\n    .dataframe tbody tr th:only-of-type {\n        vertical-align: middle;\n    }\n\n    .dataframe tbody tr th {\n        vertical-align: top;\n    }\n\n    .dataframe thead th {\n        text-align: right;\n    }\n</style>\n<table border=\"1\" class=\"dataframe\">\n  <thead>\n    <tr style=\"text-align: right;\">\n      <th></th>\n      <th>season</th>\n      <th>team_abbreviation</th>\n      <th>age</th>\n      <th>player_height</th>\n      <th>player_weight</th>\n      <th>po_year</th>\n      <th>team_full</th>\n      <th>playoffs</th>\n      <th>po_year_str</th>\n      <th>year_team</th>\n    </tr>\n  </thead>\n  <tbody>\n    <tr>\n      <th>29</th>\n      <td>1997-98</td>\n      <td>ATL</td>\n      <td>28.250000</td>\n      <td>199.231250</td>\n      <td>99.166551</td>\n      <td>1998</td>\n      <td>Atlanta Hawks</td>\n      <td>True</td>\n      <td>1998</td>\n      <td>1998_Atlanta Hawks</td>\n    </tr>\n    <tr>\n      <th>30</th>\n      <td>1997-98</td>\n      <td>BOS</td>\n      <td>25.857143</td>\n      <td>200.297143</td>\n      <td>95.027524</td>\n      <td>1998</td>\n      <td>Boston Celtics</td>\n      <td>False</td>\n      <td>1998</td>\n      <td>1998_Boston Celtics</td>\n    </tr>\n    <tr>\n      <th>31</th>\n      <td>1997-98</td>\n      <td>CHH</td>\n      <td>29.733333</td>\n      <td>200.829333</td>\n      <td>101.755805</td>\n      <td>1998</td>\n      <td>Charlotte Hornets</td>\n      <td>True</td>\n      <td>1998</td>\n      <td>1998_Charlotte Hornets</td>\n    </tr>\n    <tr>\n      <th>32</th>\n      <td>1997-98</td>\n      <td>CHI</td>\n      <td>30.600000</td>\n      <td>201.337333</td>\n      <td>103.691131</td>\n      <td>1998</td>\n      <td>Chicago Bulls</td>\n      <td>True</td>\n      <td>1998</td>\n      <td>1998_Chicago Bulls</td>\n    </tr>\n    <tr>\n      <th>33</th>\n      <td>1997-98</td>\n      <td>CLE</td>\n      <td>26.375000</td>\n      <td>199.231250</td>\n      <td>96.756844</td>\n      <td>1998</td>\n      <td>Cleveland Cavaliers</td>\n      <td>True</td>\n      <td>1998</td>\n      <td>1998_Cleveland Cavaliers</td>\n    </tr>\n    <tr>\n      <th>...</th>\n      <td>...</td>\n      <td>...</td>\n      <td>...</td>\n      <td>...</td>\n      <td>...</td>\n      <td>...</td>\n      <td>...</td>\n      <td>...</td>\n      <td>...</td>\n      <td>...</td>\n    </tr>\n    <tr>\n      <th>707</th>\n      <td>2019-20</td>\n      <td>SAC</td>\n      <td>25.117647</td>\n      <td>199.763529</td>\n      <td>98.242691</td>\n      <td>2020</td>\n      <td>Sacramento Kings</td>\n      <td>False</td>\n      <td>2020</td>\n      <td>2020_Sacramento Kings</td>\n    </tr>\n    <tr>\n      <th>708</th>\n      <td>2019-20</td>\n      <td>SAS</td>\n      <td>25.750000</td>\n      <td>199.390000</td>\n      <td>99.223250</td>\n      <td>2020</td>\n      <td>San Antonio Spurs</td>\n      <td>False</td>\n      <td>2020</td>\n      <td>2020_San Antonio Spurs</td>\n    </tr>\n    <tr>\n      <th>709</th>\n      <td>2019-20</td>\n      <td>TOR</td>\n      <td>25.555556</td>\n      <td>198.261111</td>\n      <td>96.539497</td>\n      <td>2020</td>\n      <td>Toronto Raptors</td>\n      <td>True</td>\n      <td>2020</td>\n      <td>2020_Toronto Raptors</td>\n    </tr>\n    <tr>\n      <th>710</th>\n      <td>2019-20</td>\n      <td>UTA</td>\n      <td>25.666667</td>\n      <td>196.285556</td>\n      <td>98.353865</td>\n      <td>2020</td>\n      <td>Utah Jazz</td>\n      <td>True</td>\n      <td>2020</td>\n      <td>2020_Utah Jazz</td>\n    </tr>\n    <tr>\n      <th>711</th>\n      <td>2019-20</td>\n      <td>WAS</td>\n      <td>25.210526</td>\n      <td>197.718947</td>\n      <td>96.925448</td>\n      <td>2020</td>\n      <td>Washington Wizards</td>\n      <td>False</td>\n      <td>2020</td>\n      <td>2020_Washington Wizards</td>\n    </tr>\n  </tbody>\n</table>\n<p>683 rows × 10 columns</p>\n</div>"
     },
     "execution_count": 161,
     "metadata": {},
     "output_type": "execute_result"
    }
   ],
   "source": [
    "season_team_df"
   ],
   "metadata": {
    "collapsed": false,
    "pycharm": {
     "name": "#%%\n"
    }
   }
  },
  {
   "cell_type": "markdown",
   "source": [
    "## Team Stats"
   ],
   "metadata": {
    "collapsed": false,
    "pycharm": {
     "name": "#%% md\n"
    }
   }
  },
  {
   "cell_type": "code",
   "execution_count": 162,
   "outputs": [
    {
     "data": {
      "text/plain": "     No           Team    G   Min  PtsTotal  PtsSeason  OppPtsSeason   Reb  \\\n0     1        Chicago  103  48.4      96.0       96.7          89.6  44.1   \n1     2           Utah  102  48.3      98.6      101.0          88.5  40.8   \n2     3        Phoenix   86  48.6      99.3       99.6          94.4  41.9   \n3     4     L.A.Lakers   95  48.3     104.8      105.5          97.8  42.9   \n4     5    San Antonio   91  48.4      92.5       92.5          88.5  44.1   \n..   ..            ...  ...   ...       ...        ...           ...   ...   \n737  25     Sacramento   82  48.3     110.3      110.3         115.8  42.9   \n738  26        Orlando   82  48.2     104.2      104.2         112.2  44.3   \n739  27        Detroit   82  48.2     104.8      104.8         112.5  43.0   \n740  28       Portland   82  48.1     106.2      106.2         115.1  42.9   \n741  29  Oklahoma City   82  48.3     103.7      103.7         111.8  45.6   \n\n      Ast  Stl  ...  Oreb      Fgm-a    Pct      3gm-a  Pct.1      Ftm-a  \\\n0    23.1  8.6  ...  14.9  36.7-81.7  0.449   3.9-12.0  0.323  18.7-25.2   \n1    24.7  7.6  ...  11.3  35.9-74.3  0.483    3.1-8.4  0.368  23.8-30.9   \n2    25.6  9.2  ...  12.1  38.2-82.0  0.466   5.2-14.7  0.355  17.7-23.6   \n3    24.3  8.7  ...  13.2  38.0-79.1  0.480   6.1-17.3  0.350  22.8-33.7   \n4    21.9  6.2  ...  11.9  35.1-75.1  0.468   3.7-10.8  0.344  18.5-26.8   \n..    ...  ...  ...   ...        ...    ...        ...    ...        ...   \n737  23.7  7.2  ...   9.6  40.5-88.1  0.460  11.4-33.2  0.344  17.9-23.3   \n738  23.7  6.8  ...   9.1  38.3-88.3  0.434  12.2-36.8  0.331  15.5-19.7   \n739  23.5  7.7  ...  11.0  38.2-88.6  0.430  11.3-34.6  0.326  17.2-22.0   \n740  22.9  8.0  ...  10.4  38.5-87.1  0.443  12.7-36.8  0.346  16.4-21.6   \n741  22.2  7.6  ...  10.4  38.3-89.1  0.430  12.1-37.4  0.323  15.0-19.9   \n\n     Pct.2    Eff  Deff       Year  \n0    0.741  111.6  17.5  1997-1998  \n1    0.768  116.3  17.5  1997-1998  \n2    0.747  117.1  13.6  1997-1998  \n3    0.675  120.8  13.2  1997-1998  \n4    0.688  108.0  13.1  1997-1998  \n..     ...    ...   ...        ...  \n737  0.768  122.1 -13.4  2021-2022  \n738  0.787  115.5 -16.0  2021-2022  \n739  0.782  115.1 -16.7  2021-2022  \n740  0.760  117.1 -19.0  2021-2022  \n741  0.756  114.8 -19.2  2021-2022  \n\n[742 rows x 24 columns]",
      "text/html": "<div>\n<style scoped>\n    .dataframe tbody tr th:only-of-type {\n        vertical-align: middle;\n    }\n\n    .dataframe tbody tr th {\n        vertical-align: top;\n    }\n\n    .dataframe thead th {\n        text-align: right;\n    }\n</style>\n<table border=\"1\" class=\"dataframe\">\n  <thead>\n    <tr style=\"text-align: right;\">\n      <th></th>\n      <th>No</th>\n      <th>Team</th>\n      <th>G</th>\n      <th>Min</th>\n      <th>PtsTotal</th>\n      <th>PtsSeason</th>\n      <th>OppPtsSeason</th>\n      <th>Reb</th>\n      <th>Ast</th>\n      <th>Stl</th>\n      <th>...</th>\n      <th>Oreb</th>\n      <th>Fgm-a</th>\n      <th>Pct</th>\n      <th>3gm-a</th>\n      <th>Pct.1</th>\n      <th>Ftm-a</th>\n      <th>Pct.2</th>\n      <th>Eff</th>\n      <th>Deff</th>\n      <th>Year</th>\n    </tr>\n  </thead>\n  <tbody>\n    <tr>\n      <th>0</th>\n      <td>1</td>\n      <td>Chicago</td>\n      <td>103</td>\n      <td>48.4</td>\n      <td>96.0</td>\n      <td>96.7</td>\n      <td>89.6</td>\n      <td>44.1</td>\n      <td>23.1</td>\n      <td>8.6</td>\n      <td>...</td>\n      <td>14.9</td>\n      <td>36.7-81.7</td>\n      <td>0.449</td>\n      <td>3.9-12.0</td>\n      <td>0.323</td>\n      <td>18.7-25.2</td>\n      <td>0.741</td>\n      <td>111.6</td>\n      <td>17.5</td>\n      <td>1997-1998</td>\n    </tr>\n    <tr>\n      <th>1</th>\n      <td>2</td>\n      <td>Utah</td>\n      <td>102</td>\n      <td>48.3</td>\n      <td>98.6</td>\n      <td>101.0</td>\n      <td>88.5</td>\n      <td>40.8</td>\n      <td>24.7</td>\n      <td>7.6</td>\n      <td>...</td>\n      <td>11.3</td>\n      <td>35.9-74.3</td>\n      <td>0.483</td>\n      <td>3.1-8.4</td>\n      <td>0.368</td>\n      <td>23.8-30.9</td>\n      <td>0.768</td>\n      <td>116.3</td>\n      <td>17.5</td>\n      <td>1997-1998</td>\n    </tr>\n    <tr>\n      <th>2</th>\n      <td>3</td>\n      <td>Phoenix</td>\n      <td>86</td>\n      <td>48.6</td>\n      <td>99.3</td>\n      <td>99.6</td>\n      <td>94.4</td>\n      <td>41.9</td>\n      <td>25.6</td>\n      <td>9.2</td>\n      <td>...</td>\n      <td>12.1</td>\n      <td>38.2-82.0</td>\n      <td>0.466</td>\n      <td>5.2-14.7</td>\n      <td>0.355</td>\n      <td>17.7-23.6</td>\n      <td>0.747</td>\n      <td>117.1</td>\n      <td>13.6</td>\n      <td>1997-1998</td>\n    </tr>\n    <tr>\n      <th>3</th>\n      <td>4</td>\n      <td>L.A.Lakers</td>\n      <td>95</td>\n      <td>48.3</td>\n      <td>104.8</td>\n      <td>105.5</td>\n      <td>97.8</td>\n      <td>42.9</td>\n      <td>24.3</td>\n      <td>8.7</td>\n      <td>...</td>\n      <td>13.2</td>\n      <td>38.0-79.1</td>\n      <td>0.480</td>\n      <td>6.1-17.3</td>\n      <td>0.350</td>\n      <td>22.8-33.7</td>\n      <td>0.675</td>\n      <td>120.8</td>\n      <td>13.2</td>\n      <td>1997-1998</td>\n    </tr>\n    <tr>\n      <th>4</th>\n      <td>5</td>\n      <td>San Antonio</td>\n      <td>91</td>\n      <td>48.4</td>\n      <td>92.5</td>\n      <td>92.5</td>\n      <td>88.5</td>\n      <td>44.1</td>\n      <td>21.9</td>\n      <td>6.2</td>\n      <td>...</td>\n      <td>11.9</td>\n      <td>35.1-75.1</td>\n      <td>0.468</td>\n      <td>3.7-10.8</td>\n      <td>0.344</td>\n      <td>18.5-26.8</td>\n      <td>0.688</td>\n      <td>108.0</td>\n      <td>13.1</td>\n      <td>1997-1998</td>\n    </tr>\n    <tr>\n      <th>...</th>\n      <td>...</td>\n      <td>...</td>\n      <td>...</td>\n      <td>...</td>\n      <td>...</td>\n      <td>...</td>\n      <td>...</td>\n      <td>...</td>\n      <td>...</td>\n      <td>...</td>\n      <td>...</td>\n      <td>...</td>\n      <td>...</td>\n      <td>...</td>\n      <td>...</td>\n      <td>...</td>\n      <td>...</td>\n      <td>...</td>\n      <td>...</td>\n      <td>...</td>\n      <td>...</td>\n    </tr>\n    <tr>\n      <th>737</th>\n      <td>25</td>\n      <td>Sacramento</td>\n      <td>82</td>\n      <td>48.3</td>\n      <td>110.3</td>\n      <td>110.3</td>\n      <td>115.8</td>\n      <td>42.9</td>\n      <td>23.7</td>\n      <td>7.2</td>\n      <td>...</td>\n      <td>9.6</td>\n      <td>40.5-88.1</td>\n      <td>0.460</td>\n      <td>11.4-33.2</td>\n      <td>0.344</td>\n      <td>17.9-23.3</td>\n      <td>0.768</td>\n      <td>122.1</td>\n      <td>-13.4</td>\n      <td>2021-2022</td>\n    </tr>\n    <tr>\n      <th>738</th>\n      <td>26</td>\n      <td>Orlando</td>\n      <td>82</td>\n      <td>48.2</td>\n      <td>104.2</td>\n      <td>104.2</td>\n      <td>112.2</td>\n      <td>44.3</td>\n      <td>23.7</td>\n      <td>6.8</td>\n      <td>...</td>\n      <td>9.1</td>\n      <td>38.3-88.3</td>\n      <td>0.434</td>\n      <td>12.2-36.8</td>\n      <td>0.331</td>\n      <td>15.5-19.7</td>\n      <td>0.787</td>\n      <td>115.5</td>\n      <td>-16.0</td>\n      <td>2021-2022</td>\n    </tr>\n    <tr>\n      <th>739</th>\n      <td>27</td>\n      <td>Detroit</td>\n      <td>82</td>\n      <td>48.2</td>\n      <td>104.8</td>\n      <td>104.8</td>\n      <td>112.5</td>\n      <td>43.0</td>\n      <td>23.5</td>\n      <td>7.7</td>\n      <td>...</td>\n      <td>11.0</td>\n      <td>38.2-88.6</td>\n      <td>0.430</td>\n      <td>11.3-34.6</td>\n      <td>0.326</td>\n      <td>17.2-22.0</td>\n      <td>0.782</td>\n      <td>115.1</td>\n      <td>-16.7</td>\n      <td>2021-2022</td>\n    </tr>\n    <tr>\n      <th>740</th>\n      <td>28</td>\n      <td>Portland</td>\n      <td>82</td>\n      <td>48.1</td>\n      <td>106.2</td>\n      <td>106.2</td>\n      <td>115.1</td>\n      <td>42.9</td>\n      <td>22.9</td>\n      <td>8.0</td>\n      <td>...</td>\n      <td>10.4</td>\n      <td>38.5-87.1</td>\n      <td>0.443</td>\n      <td>12.7-36.8</td>\n      <td>0.346</td>\n      <td>16.4-21.6</td>\n      <td>0.760</td>\n      <td>117.1</td>\n      <td>-19.0</td>\n      <td>2021-2022</td>\n    </tr>\n    <tr>\n      <th>741</th>\n      <td>29</td>\n      <td>Oklahoma City</td>\n      <td>82</td>\n      <td>48.3</td>\n      <td>103.7</td>\n      <td>103.7</td>\n      <td>111.8</td>\n      <td>45.6</td>\n      <td>22.2</td>\n      <td>7.6</td>\n      <td>...</td>\n      <td>10.4</td>\n      <td>38.3-89.1</td>\n      <td>0.430</td>\n      <td>12.1-37.4</td>\n      <td>0.323</td>\n      <td>15.0-19.9</td>\n      <td>0.756</td>\n      <td>114.8</td>\n      <td>-19.2</td>\n      <td>2021-2022</td>\n    </tr>\n  </tbody>\n</table>\n<p>742 rows × 24 columns</p>\n</div>"
     },
     "execution_count": 162,
     "metadata": {},
     "output_type": "execute_result"
    }
   ],
   "source": [
    "team_df = pd.read_csv(\"NBA_Team_Stats.csv\")\n",
    "team_df"
   ],
   "metadata": {
    "collapsed": false,
    "pycharm": {
     "name": "#%%\n"
    }
   }
  },
  {
   "cell_type": "code",
   "execution_count": 163,
   "outputs": [],
   "source": [
    "team_vars = [\"Team\",\"PtsSeason\",\"OppPtsSeason\",\"Reb\",\"Ast\",\"Stl\",\"Blk\",\"To\",\"Pf\",\"Dreb\",\"Oreb\",\"Year\"]\n",
    "team_df = team_df[team_vars].copy()"
   ],
   "metadata": {
    "collapsed": false,
    "pycharm": {
     "name": "#%%\n"
    }
   }
  },
  {
   "cell_type": "code",
   "execution_count": 164,
   "outputs": [],
   "source": [
    "# Compute point differential\n",
    "team_df[\"PtsDiff\"] = team_df['PtsSeason'] - team_df['OppPtsSeason']"
   ],
   "metadata": {
    "collapsed": false,
    "pycharm": {
     "name": "#%%\n"
    }
   }
  },
  {
   "cell_type": "code",
   "execution_count": 165,
   "outputs": [],
   "source": [
    "team_df['po_year'] = team_df['Year'].apply(lambda x: x.split(\"-\")[1])\n",
    "# And convert to numeric\n",
    "team_df['po_year'] = pd.to_numeric(team_df['po_year'])"
   ],
   "metadata": {
    "collapsed": false,
    "pycharm": {
     "name": "#%%\n"
    }
   }
  },
  {
   "cell_type": "code",
   "execution_count": 166,
   "outputs": [
    {
     "data": {
      "text/plain": "              Team  PtsSeason  OppPtsSeason   Reb   Ast  Stl  Blk    To    Pf  \\\n0          Chicago       96.7          89.6  44.1  23.1  8.6  4.3  13.0  21.1   \n1             Utah      101.0          88.5  40.8  24.7  7.6  4.8  14.7  24.3   \n2          Phoenix       99.6          94.4  41.9  25.6  9.2  5.3  14.4  21.7   \n3       L.A.Lakers      105.5          97.8  42.9  24.3  8.7  6.8  14.7  22.9   \n4      San Antonio       92.5          88.5  44.1  21.9  6.2  6.9  15.3  21.2   \n..             ...        ...           ...   ...   ...  ...  ...   ...   ...   \n737     Sacramento      110.3         115.8  42.9  23.7  7.2  4.5  13.5  18.9   \n738        Orlando      104.2         112.2  44.3  23.7  6.8  4.5  13.8  19.7   \n739        Detroit      104.8         112.5  43.0  23.5  7.7  4.8  13.4  21.9   \n740       Portland      106.2         115.1  42.9  22.9  8.0  4.5  13.7  21.1   \n741  Oklahoma City      103.7         111.8  45.6  22.2  7.6  4.6  13.3  18.3   \n\n     Dreb  Oreb       Year  PtsDiff  po_year  \n0    29.2  14.9  1997-1998      7.1     1998  \n1    29.5  11.3  1997-1998     12.5     1998  \n2    29.8  12.1  1997-1998      5.2     1998  \n3    29.7  13.2  1997-1998      7.7     1998  \n4    32.2  11.9  1997-1998      4.0     1998  \n..    ...   ...        ...      ...      ...  \n737  33.4   9.6  2021-2022     -5.5     2022  \n738  35.2   9.1  2021-2022     -8.0     2022  \n739  32.0  11.0  2021-2022     -7.7     2022  \n740  32.5  10.4  2021-2022     -8.9     2022  \n741  35.2  10.4  2021-2022     -8.1     2022  \n\n[742 rows x 14 columns]",
      "text/html": "<div>\n<style scoped>\n    .dataframe tbody tr th:only-of-type {\n        vertical-align: middle;\n    }\n\n    .dataframe tbody tr th {\n        vertical-align: top;\n    }\n\n    .dataframe thead th {\n        text-align: right;\n    }\n</style>\n<table border=\"1\" class=\"dataframe\">\n  <thead>\n    <tr style=\"text-align: right;\">\n      <th></th>\n      <th>Team</th>\n      <th>PtsSeason</th>\n      <th>OppPtsSeason</th>\n      <th>Reb</th>\n      <th>Ast</th>\n      <th>Stl</th>\n      <th>Blk</th>\n      <th>To</th>\n      <th>Pf</th>\n      <th>Dreb</th>\n      <th>Oreb</th>\n      <th>Year</th>\n      <th>PtsDiff</th>\n      <th>po_year</th>\n    </tr>\n  </thead>\n  <tbody>\n    <tr>\n      <th>0</th>\n      <td>Chicago</td>\n      <td>96.7</td>\n      <td>89.6</td>\n      <td>44.1</td>\n      <td>23.1</td>\n      <td>8.6</td>\n      <td>4.3</td>\n      <td>13.0</td>\n      <td>21.1</td>\n      <td>29.2</td>\n      <td>14.9</td>\n      <td>1997-1998</td>\n      <td>7.1</td>\n      <td>1998</td>\n    </tr>\n    <tr>\n      <th>1</th>\n      <td>Utah</td>\n      <td>101.0</td>\n      <td>88.5</td>\n      <td>40.8</td>\n      <td>24.7</td>\n      <td>7.6</td>\n      <td>4.8</td>\n      <td>14.7</td>\n      <td>24.3</td>\n      <td>29.5</td>\n      <td>11.3</td>\n      <td>1997-1998</td>\n      <td>12.5</td>\n      <td>1998</td>\n    </tr>\n    <tr>\n      <th>2</th>\n      <td>Phoenix</td>\n      <td>99.6</td>\n      <td>94.4</td>\n      <td>41.9</td>\n      <td>25.6</td>\n      <td>9.2</td>\n      <td>5.3</td>\n      <td>14.4</td>\n      <td>21.7</td>\n      <td>29.8</td>\n      <td>12.1</td>\n      <td>1997-1998</td>\n      <td>5.2</td>\n      <td>1998</td>\n    </tr>\n    <tr>\n      <th>3</th>\n      <td>L.A.Lakers</td>\n      <td>105.5</td>\n      <td>97.8</td>\n      <td>42.9</td>\n      <td>24.3</td>\n      <td>8.7</td>\n      <td>6.8</td>\n      <td>14.7</td>\n      <td>22.9</td>\n      <td>29.7</td>\n      <td>13.2</td>\n      <td>1997-1998</td>\n      <td>7.7</td>\n      <td>1998</td>\n    </tr>\n    <tr>\n      <th>4</th>\n      <td>San Antonio</td>\n      <td>92.5</td>\n      <td>88.5</td>\n      <td>44.1</td>\n      <td>21.9</td>\n      <td>6.2</td>\n      <td>6.9</td>\n      <td>15.3</td>\n      <td>21.2</td>\n      <td>32.2</td>\n      <td>11.9</td>\n      <td>1997-1998</td>\n      <td>4.0</td>\n      <td>1998</td>\n    </tr>\n    <tr>\n      <th>...</th>\n      <td>...</td>\n      <td>...</td>\n      <td>...</td>\n      <td>...</td>\n      <td>...</td>\n      <td>...</td>\n      <td>...</td>\n      <td>...</td>\n      <td>...</td>\n      <td>...</td>\n      <td>...</td>\n      <td>...</td>\n      <td>...</td>\n      <td>...</td>\n    </tr>\n    <tr>\n      <th>737</th>\n      <td>Sacramento</td>\n      <td>110.3</td>\n      <td>115.8</td>\n      <td>42.9</td>\n      <td>23.7</td>\n      <td>7.2</td>\n      <td>4.5</td>\n      <td>13.5</td>\n      <td>18.9</td>\n      <td>33.4</td>\n      <td>9.6</td>\n      <td>2021-2022</td>\n      <td>-5.5</td>\n      <td>2022</td>\n    </tr>\n    <tr>\n      <th>738</th>\n      <td>Orlando</td>\n      <td>104.2</td>\n      <td>112.2</td>\n      <td>44.3</td>\n      <td>23.7</td>\n      <td>6.8</td>\n      <td>4.5</td>\n      <td>13.8</td>\n      <td>19.7</td>\n      <td>35.2</td>\n      <td>9.1</td>\n      <td>2021-2022</td>\n      <td>-8.0</td>\n      <td>2022</td>\n    </tr>\n    <tr>\n      <th>739</th>\n      <td>Detroit</td>\n      <td>104.8</td>\n      <td>112.5</td>\n      <td>43.0</td>\n      <td>23.5</td>\n      <td>7.7</td>\n      <td>4.8</td>\n      <td>13.4</td>\n      <td>21.9</td>\n      <td>32.0</td>\n      <td>11.0</td>\n      <td>2021-2022</td>\n      <td>-7.7</td>\n      <td>2022</td>\n    </tr>\n    <tr>\n      <th>740</th>\n      <td>Portland</td>\n      <td>106.2</td>\n      <td>115.1</td>\n      <td>42.9</td>\n      <td>22.9</td>\n      <td>8.0</td>\n      <td>4.5</td>\n      <td>13.7</td>\n      <td>21.1</td>\n      <td>32.5</td>\n      <td>10.4</td>\n      <td>2021-2022</td>\n      <td>-8.9</td>\n      <td>2022</td>\n    </tr>\n    <tr>\n      <th>741</th>\n      <td>Oklahoma City</td>\n      <td>103.7</td>\n      <td>111.8</td>\n      <td>45.6</td>\n      <td>22.2</td>\n      <td>7.6</td>\n      <td>4.6</td>\n      <td>13.3</td>\n      <td>18.3</td>\n      <td>35.2</td>\n      <td>10.4</td>\n      <td>2021-2022</td>\n      <td>-8.1</td>\n      <td>2022</td>\n    </tr>\n  </tbody>\n</table>\n<p>742 rows × 14 columns</p>\n</div>"
     },
     "execution_count": 166,
     "metadata": {},
     "output_type": "execute_result"
    }
   ],
   "source": [
    "team_df"
   ],
   "metadata": {
    "collapsed": false,
    "pycharm": {
     "name": "#%%\n"
    }
   }
  },
  {
   "cell_type": "code",
   "execution_count": 167,
   "outputs": [],
   "source": [
    "# Clean team names\n",
    "def clean_team_name(row):\n",
    "    cur_name = row['Team']\n",
    "    return nbautil.city_to_team[cur_name]"
   ],
   "metadata": {
    "collapsed": false,
    "pycharm": {
     "name": "#%%\n"
    }
   }
  },
  {
   "cell_type": "code",
   "execution_count": 168,
   "outputs": [],
   "source": [
    "team_df['team_full'] = team_df.apply(clean_team_name, axis=1)"
   ],
   "metadata": {
    "collapsed": false,
    "pycharm": {
     "name": "#%%\n"
    }
   }
  },
  {
   "cell_type": "code",
   "execution_count": 169,
   "outputs": [
    {
     "data": {
      "text/plain": "Team             object\nPtsSeason       float64\nOppPtsSeason    float64\nReb             float64\nAst             float64\nStl             float64\nBlk             float64\nTo              float64\nPf              float64\nDreb            float64\nOreb            float64\nYear             object\nPtsDiff         float64\npo_year           int64\nteam_full        object\ndtype: object"
     },
     "execution_count": 169,
     "metadata": {},
     "output_type": "execute_result"
    }
   ],
   "source": [
    "team_df.dtypes"
   ],
   "metadata": {
    "collapsed": false,
    "pycharm": {
     "name": "#%%\n"
    }
   }
  },
  {
   "cell_type": "code",
   "execution_count": 170,
   "outputs": [],
   "source": [
    "# Make a unique key\n",
    "team_df['po_year_str'] = team_df['po_year'].apply(lambda x: str(x))\n",
    "team_df['year_team'] = team_df['po_year_str'] + \"_\" + team_df['team_full']"
   ],
   "metadata": {
    "collapsed": false,
    "pycharm": {
     "name": "#%%\n"
    }
   }
  },
  {
   "cell_type": "code",
   "execution_count": 171,
   "outputs": [],
   "source": [
    "# And some corrections on this one (harder than the other since it only has city...)\n",
    "yt_correct = {\n",
    "    '2003_New Orleans Pelicans': '2003_New Orleans Hornets',\n",
    "    '2004_New Orleans Pelicans': '2004_New Orleans Hornets',\n",
    "    '2005_New Orleans Pelicans': '2005_New Orleans Hornets',\n",
    "    '2005_Charlotte Hornets': '2005_Charlotte Bobcats',\n",
    "    '2006_Charlotte Hornets': '2006_Charlotte Bobcats',\n",
    "    '2006_New Orleans Pelicans': '2006_New Orleans/Oklahoma City Hornets',\n",
    "    '2007_Charlotte Hornets': '2007_Charlotte Bobcats',\n",
    "    '2007_New Orleans Pelicans': '2007_New Orleans/Oklahoma City Hornets',\n",
    "    '2008_Charlotte Hornets': '2008_Charlotte Bobcats',\n",
    "    '2008_New Orleans Pelicans': '2008_New Orleans Hornets',\n",
    "    '2009_Charlotte Hornets': '2009_Charlotte Bobcats',\n",
    "    '2009_New Orleans Pelicans': '2009_New Orleans Hornets',\n",
    "    '2010_Charlotte Hornets': '2010_Charlotte Bobcats',\n",
    "    '2010_New Orleans Pelicans': '2010_New Orleans Hornets',\n",
    "    '2011_Charlotte Hornets': '2011_Charlotte Bobcats',\n",
    "    '2011_New Orleans Pelicans': '2011_New Orleans Hornets',\n",
    "    '2012_Charlotte Hornets': '2012_Charlotte Bobcats',\n",
    "    '2012_New Orleans Pelicans': '2012_New Orleans Hornets',\n",
    "    '2013_Charlotte Hornets': '2013_Charlotte Bobcats',\n",
    "    '2013_New Orleans Pelicans': '2013_New Orleans Hornets',\n",
    "    '2014_Charlotte Hornets': '2014_Charlotte Bobcats',\n",
    "}\n",
    "team_df['year_team'] = team_df['year_team'].apply(lambda x: yt_correct[x] if x in yt_correct else x)"
   ],
   "metadata": {
    "collapsed": false,
    "pycharm": {
     "name": "#%%\n"
    }
   }
  },
  {
   "cell_type": "code",
   "execution_count": 172,
   "outputs": [
    {
     "data": {
      "text/plain": "        Team  PtsSeason  OppPtsSeason   Reb   Ast  Stl  Blk    To    Pf  Dreb  \\\n322  Memphis      100.7         106.9  41.6  19.2  6.1  4.7  15.3  19.4  31.3   \n\n     Oreb       Year  PtsDiff  po_year          team_full po_year_str  \\\n322  10.3  2007-2008     -6.2     2008  Memphis Grizzlies        2008   \n\n                  year_team  \n322  2008_Memphis Grizzlies  ",
      "text/html": "<div>\n<style scoped>\n    .dataframe tbody tr th:only-of-type {\n        vertical-align: middle;\n    }\n\n    .dataframe tbody tr th {\n        vertical-align: top;\n    }\n\n    .dataframe thead th {\n        text-align: right;\n    }\n</style>\n<table border=\"1\" class=\"dataframe\">\n  <thead>\n    <tr style=\"text-align: right;\">\n      <th></th>\n      <th>Team</th>\n      <th>PtsSeason</th>\n      <th>OppPtsSeason</th>\n      <th>Reb</th>\n      <th>Ast</th>\n      <th>Stl</th>\n      <th>Blk</th>\n      <th>To</th>\n      <th>Pf</th>\n      <th>Dreb</th>\n      <th>Oreb</th>\n      <th>Year</th>\n      <th>PtsDiff</th>\n      <th>po_year</th>\n      <th>team_full</th>\n      <th>po_year_str</th>\n      <th>year_team</th>\n    </tr>\n  </thead>\n  <tbody>\n    <tr>\n      <th>322</th>\n      <td>Memphis</td>\n      <td>100.7</td>\n      <td>106.9</td>\n      <td>41.6</td>\n      <td>19.2</td>\n      <td>6.1</td>\n      <td>4.7</td>\n      <td>15.3</td>\n      <td>19.4</td>\n      <td>31.3</td>\n      <td>10.3</td>\n      <td>2007-2008</td>\n      <td>-6.2</td>\n      <td>2008</td>\n      <td>Memphis Grizzlies</td>\n      <td>2008</td>\n      <td>2008_Memphis Grizzlies</td>\n    </tr>\n  </tbody>\n</table>\n</div>"
     },
     "execution_count": 172,
     "metadata": {},
     "output_type": "execute_result"
    }
   ],
   "source": [
    "# Sigh... a bunch of missing data, filling in here:\n",
    "team_df[(team_df['po_year'] == 2008) & (team_df['team_full'] == \"Memphis Grizzlies\")]"
   ],
   "metadata": {
    "collapsed": false,
    "pycharm": {
     "name": "#%%\n"
    }
   }
  },
  {
   "cell_type": "code",
   "execution_count": 173,
   "outputs": [
    {
     "data": {
      "text/plain": "              Team  PtsSeason  OppPtsSeason   Reb   Ast  Stl  Blk    To    Pf  \\\n490        Atlanta      101.0         101.5  39.9  24.3  8.2  4.0  14.4  19.4   \n495         Boston       96.2         100.7  42.5  21.0  7.1  4.2  14.4  21.2   \n492       Brooklyn       98.5          99.5  38.1  20.6  8.4  3.7  13.7  21.8   \n489      Charlotte       96.9          97.1  42.5  21.6  6.0  5.1  11.7  18.3   \n480        Chicago       93.7          91.8  44.0  22.5  7.1  5.1  13.9  19.3   \n496      Cleveland       98.2         101.5  44.1  21.2  7.1  3.7  13.5  20.0   \n481         Dallas      104.8         102.4  40.9  23.2  8.4  4.3  13.0  20.0   \n493         Denver      104.4         106.5  45.4  22.4  7.5  5.6  15.4  23.0   \n498        Detroit      101.0         104.7  45.4  20.9  8.4  4.8  13.9  20.3   \n476   Golden State      104.3          99.5  45.1  23.4  7.8  4.9  15.1  22.0   \n479        Houston      107.7         103.1  45.6  21.2  7.5  5.6  15.3  20.8   \n477        Indiana       96.7          92.3  43.7  19.9  6.8  5.2  14.1  20.5   \n475   L.A.Clippers      107.9         101.0  42.6  24.5  8.7  4.8  13.2  21.9   \n501     L.A.Lakers      103.0         109.2  41.0  24.5  7.5  5.5  14.8  19.8   \n483        Memphis       96.1          94.6  42.4  21.8  7.8  4.4  12.8  19.3   \n478          Miami      102.2          97.4  36.3  21.7  8.6  4.3  13.6  19.7   \n500      Milwaukee       95.5         103.7  41.1  21.5  6.6  4.9  14.3  20.9   \n487      Minnesota      106.9         104.3  44.7  24.0  8.8  3.6  13.5  18.3   \n491    New Orleans       99.7         102.4  41.7  21.3  7.9  6.4  13.0  22.6   \n488       New York       98.6          99.4  40.3  20.0  7.7  4.5  12.4  22.1   \n474  Oklahoma City      106.2          99.8  44.8  21.4  7.9  6.1  14.8  22.7   \n497        Orlando       96.5         102.0  42.0  21.0  7.7  4.3  14.2  20.5   \n502   Philadelphia       99.5         109.9  42.9  20.5  9.6  5.9  17.7  21.7   \n485        Phoenix      105.2         102.6  43.0  19.1  8.4  4.6  14.8  21.9   \n482       Portland      106.7         102.8  46.2  22.5  5.6  4.9  13.3  19.6   \n494     Sacramento      100.5         103.4  44.5  18.9  7.2  3.9  14.7  22.5   \n473    San Antonio      105.4          97.6  43.0  24.5  7.5  4.8  13.6  18.6   \n484        Toronto      101.3          98.0  42.4  20.9  6.9  4.1  13.4  23.2   \n499           Utah       95.0         102.2  41.2  20.3  7.0  4.5  14.0  20.7   \n486     Washington      100.7          99.4  42.5  22.8  8.1  4.7  13.9  20.6   \n\n     Dreb  Oreb       Year  PtsDiff  po_year               team_full  \\\n490  31.2   8.7  2013-2014     -0.5     2014           Atlanta Hawks   \n495  30.5  12.0  2013-2014     -4.5     2014          Boston Celtics   \n492  29.1   8.9  2013-2014     -1.0     2014           Brooklyn Nets   \n489  33.1   9.4  2013-2014     -0.2     2014       Charlotte Hornets   \n480  32.6  11.5  2013-2014      1.9     2014           Chicago Bulls   \n496  32.1  12.0  2013-2014     -3.3     2014     Cleveland Cavaliers   \n481  30.5  10.4  2013-2014      2.4     2014        Dallas Mavericks   \n493  33.1  12.3  2013-2014     -2.1     2014          Denver Nuggets   \n498  30.8  14.6  2013-2014     -3.7     2014         Detroit Pistons   \n476  34.0  11.1  2013-2014      4.8     2014   Golden State Warriors   \n479  34.0  11.6  2013-2014      4.6     2014         Houston Rockets   \n477  33.9   9.8  2013-2014      4.4     2014          Indiana Pacers   \n475  32.0  10.6  2013-2014      6.9     2014    Los Angeles Clippers   \n501  32.0   9.1  2013-2014     -6.2     2014      Los Angeles Lakers   \n483  30.7  11.7  2013-2014      1.5     2014       Memphis Grizzlies   \n478  29.0   7.3  2013-2014      4.8     2014              Miami Heat   \n500  29.3  11.9  2013-2014     -8.2     2014         Milwaukee Bucks   \n487  32.2  12.5  2013-2014      2.6     2014  Minnesota Timberwolves   \n491  30.3  11.4  2013-2014     -2.7     2014    New Orleans Pelicans   \n488  29.7  10.6  2013-2014     -0.8     2014         New York Knicks   \n474  33.9  10.9  2013-2014      6.4     2014   Oklahoma City Thunder   \n497  32.4   9.7  2013-2014     -5.5     2014           Orlando Magic   \n502  30.9  11.9  2013-2014    -10.4     2014      Philadelphia 76ers   \n485  31.7  11.3  2013-2014      2.6     2014            Phoenix Suns   \n482  33.8  12.4  2013-2014      3.9     2014  Portland Trail Blazers   \n494  32.4  12.1  2013-2014     -2.9     2014        Sacramento Kings   \n473  33.7   9.3  2013-2014      7.8     2014       San Antonio Spurs   \n484  31.1  11.3  2013-2014      3.3     2014         Toronto Raptors   \n499  30.2  11.0  2013-2014     -7.2     2014               Utah Jazz   \n486  31.6  10.9  2013-2014      1.3     2014      Washington Wizards   \n\n    po_year_str                    year_team  \n490        2014           2014_Atlanta Hawks  \n495        2014          2014_Boston Celtics  \n492        2014           2014_Brooklyn Nets  \n489        2014       2014_Charlotte Bobcats  \n480        2014           2014_Chicago Bulls  \n496        2014     2014_Cleveland Cavaliers  \n481        2014        2014_Dallas Mavericks  \n493        2014          2014_Denver Nuggets  \n498        2014         2014_Detroit Pistons  \n476        2014   2014_Golden State Warriors  \n479        2014         2014_Houston Rockets  \n477        2014          2014_Indiana Pacers  \n475        2014    2014_Los Angeles Clippers  \n501        2014      2014_Los Angeles Lakers  \n483        2014       2014_Memphis Grizzlies  \n478        2014              2014_Miami Heat  \n500        2014         2014_Milwaukee Bucks  \n487        2014  2014_Minnesota Timberwolves  \n491        2014    2014_New Orleans Pelicans  \n488        2014         2014_New York Knicks  \n474        2014   2014_Oklahoma City Thunder  \n497        2014           2014_Orlando Magic  \n502        2014      2014_Philadelphia 76ers  \n485        2014            2014_Phoenix Suns  \n482        2014  2014_Portland Trail Blazers  \n494        2014        2014_Sacramento Kings  \n473        2014       2014_San Antonio Spurs  \n484        2014         2014_Toronto Raptors  \n499        2014               2014_Utah Jazz  \n486        2014      2014_Washington Wizards  ",
      "text/html": "<div>\n<style scoped>\n    .dataframe tbody tr th:only-of-type {\n        vertical-align: middle;\n    }\n\n    .dataframe tbody tr th {\n        vertical-align: top;\n    }\n\n    .dataframe thead th {\n        text-align: right;\n    }\n</style>\n<table border=\"1\" class=\"dataframe\">\n  <thead>\n    <tr style=\"text-align: right;\">\n      <th></th>\n      <th>Team</th>\n      <th>PtsSeason</th>\n      <th>OppPtsSeason</th>\n      <th>Reb</th>\n      <th>Ast</th>\n      <th>Stl</th>\n      <th>Blk</th>\n      <th>To</th>\n      <th>Pf</th>\n      <th>Dreb</th>\n      <th>Oreb</th>\n      <th>Year</th>\n      <th>PtsDiff</th>\n      <th>po_year</th>\n      <th>team_full</th>\n      <th>po_year_str</th>\n      <th>year_team</th>\n    </tr>\n  </thead>\n  <tbody>\n    <tr>\n      <th>490</th>\n      <td>Atlanta</td>\n      <td>101.0</td>\n      <td>101.5</td>\n      <td>39.9</td>\n      <td>24.3</td>\n      <td>8.2</td>\n      <td>4.0</td>\n      <td>14.4</td>\n      <td>19.4</td>\n      <td>31.2</td>\n      <td>8.7</td>\n      <td>2013-2014</td>\n      <td>-0.5</td>\n      <td>2014</td>\n      <td>Atlanta Hawks</td>\n      <td>2014</td>\n      <td>2014_Atlanta Hawks</td>\n    </tr>\n    <tr>\n      <th>495</th>\n      <td>Boston</td>\n      <td>96.2</td>\n      <td>100.7</td>\n      <td>42.5</td>\n      <td>21.0</td>\n      <td>7.1</td>\n      <td>4.2</td>\n      <td>14.4</td>\n      <td>21.2</td>\n      <td>30.5</td>\n      <td>12.0</td>\n      <td>2013-2014</td>\n      <td>-4.5</td>\n      <td>2014</td>\n      <td>Boston Celtics</td>\n      <td>2014</td>\n      <td>2014_Boston Celtics</td>\n    </tr>\n    <tr>\n      <th>492</th>\n      <td>Brooklyn</td>\n      <td>98.5</td>\n      <td>99.5</td>\n      <td>38.1</td>\n      <td>20.6</td>\n      <td>8.4</td>\n      <td>3.7</td>\n      <td>13.7</td>\n      <td>21.8</td>\n      <td>29.1</td>\n      <td>8.9</td>\n      <td>2013-2014</td>\n      <td>-1.0</td>\n      <td>2014</td>\n      <td>Brooklyn Nets</td>\n      <td>2014</td>\n      <td>2014_Brooklyn Nets</td>\n    </tr>\n    <tr>\n      <th>489</th>\n      <td>Charlotte</td>\n      <td>96.9</td>\n      <td>97.1</td>\n      <td>42.5</td>\n      <td>21.6</td>\n      <td>6.0</td>\n      <td>5.1</td>\n      <td>11.7</td>\n      <td>18.3</td>\n      <td>33.1</td>\n      <td>9.4</td>\n      <td>2013-2014</td>\n      <td>-0.2</td>\n      <td>2014</td>\n      <td>Charlotte Hornets</td>\n      <td>2014</td>\n      <td>2014_Charlotte Bobcats</td>\n    </tr>\n    <tr>\n      <th>480</th>\n      <td>Chicago</td>\n      <td>93.7</td>\n      <td>91.8</td>\n      <td>44.0</td>\n      <td>22.5</td>\n      <td>7.1</td>\n      <td>5.1</td>\n      <td>13.9</td>\n      <td>19.3</td>\n      <td>32.6</td>\n      <td>11.5</td>\n      <td>2013-2014</td>\n      <td>1.9</td>\n      <td>2014</td>\n      <td>Chicago Bulls</td>\n      <td>2014</td>\n      <td>2014_Chicago Bulls</td>\n    </tr>\n    <tr>\n      <th>496</th>\n      <td>Cleveland</td>\n      <td>98.2</td>\n      <td>101.5</td>\n      <td>44.1</td>\n      <td>21.2</td>\n      <td>7.1</td>\n      <td>3.7</td>\n      <td>13.5</td>\n      <td>20.0</td>\n      <td>32.1</td>\n      <td>12.0</td>\n      <td>2013-2014</td>\n      <td>-3.3</td>\n      <td>2014</td>\n      <td>Cleveland Cavaliers</td>\n      <td>2014</td>\n      <td>2014_Cleveland Cavaliers</td>\n    </tr>\n    <tr>\n      <th>481</th>\n      <td>Dallas</td>\n      <td>104.8</td>\n      <td>102.4</td>\n      <td>40.9</td>\n      <td>23.2</td>\n      <td>8.4</td>\n      <td>4.3</td>\n      <td>13.0</td>\n      <td>20.0</td>\n      <td>30.5</td>\n      <td>10.4</td>\n      <td>2013-2014</td>\n      <td>2.4</td>\n      <td>2014</td>\n      <td>Dallas Mavericks</td>\n      <td>2014</td>\n      <td>2014_Dallas Mavericks</td>\n    </tr>\n    <tr>\n      <th>493</th>\n      <td>Denver</td>\n      <td>104.4</td>\n      <td>106.5</td>\n      <td>45.4</td>\n      <td>22.4</td>\n      <td>7.5</td>\n      <td>5.6</td>\n      <td>15.4</td>\n      <td>23.0</td>\n      <td>33.1</td>\n      <td>12.3</td>\n      <td>2013-2014</td>\n      <td>-2.1</td>\n      <td>2014</td>\n      <td>Denver Nuggets</td>\n      <td>2014</td>\n      <td>2014_Denver Nuggets</td>\n    </tr>\n    <tr>\n      <th>498</th>\n      <td>Detroit</td>\n      <td>101.0</td>\n      <td>104.7</td>\n      <td>45.4</td>\n      <td>20.9</td>\n      <td>8.4</td>\n      <td>4.8</td>\n      <td>13.9</td>\n      <td>20.3</td>\n      <td>30.8</td>\n      <td>14.6</td>\n      <td>2013-2014</td>\n      <td>-3.7</td>\n      <td>2014</td>\n      <td>Detroit Pistons</td>\n      <td>2014</td>\n      <td>2014_Detroit Pistons</td>\n    </tr>\n    <tr>\n      <th>476</th>\n      <td>Golden State</td>\n      <td>104.3</td>\n      <td>99.5</td>\n      <td>45.1</td>\n      <td>23.4</td>\n      <td>7.8</td>\n      <td>4.9</td>\n      <td>15.1</td>\n      <td>22.0</td>\n      <td>34.0</td>\n      <td>11.1</td>\n      <td>2013-2014</td>\n      <td>4.8</td>\n      <td>2014</td>\n      <td>Golden State Warriors</td>\n      <td>2014</td>\n      <td>2014_Golden State Warriors</td>\n    </tr>\n    <tr>\n      <th>479</th>\n      <td>Houston</td>\n      <td>107.7</td>\n      <td>103.1</td>\n      <td>45.6</td>\n      <td>21.2</td>\n      <td>7.5</td>\n      <td>5.6</td>\n      <td>15.3</td>\n      <td>20.8</td>\n      <td>34.0</td>\n      <td>11.6</td>\n      <td>2013-2014</td>\n      <td>4.6</td>\n      <td>2014</td>\n      <td>Houston Rockets</td>\n      <td>2014</td>\n      <td>2014_Houston Rockets</td>\n    </tr>\n    <tr>\n      <th>477</th>\n      <td>Indiana</td>\n      <td>96.7</td>\n      <td>92.3</td>\n      <td>43.7</td>\n      <td>19.9</td>\n      <td>6.8</td>\n      <td>5.2</td>\n      <td>14.1</td>\n      <td>20.5</td>\n      <td>33.9</td>\n      <td>9.8</td>\n      <td>2013-2014</td>\n      <td>4.4</td>\n      <td>2014</td>\n      <td>Indiana Pacers</td>\n      <td>2014</td>\n      <td>2014_Indiana Pacers</td>\n    </tr>\n    <tr>\n      <th>475</th>\n      <td>L.A.Clippers</td>\n      <td>107.9</td>\n      <td>101.0</td>\n      <td>42.6</td>\n      <td>24.5</td>\n      <td>8.7</td>\n      <td>4.8</td>\n      <td>13.2</td>\n      <td>21.9</td>\n      <td>32.0</td>\n      <td>10.6</td>\n      <td>2013-2014</td>\n      <td>6.9</td>\n      <td>2014</td>\n      <td>Los Angeles Clippers</td>\n      <td>2014</td>\n      <td>2014_Los Angeles Clippers</td>\n    </tr>\n    <tr>\n      <th>501</th>\n      <td>L.A.Lakers</td>\n      <td>103.0</td>\n      <td>109.2</td>\n      <td>41.0</td>\n      <td>24.5</td>\n      <td>7.5</td>\n      <td>5.5</td>\n      <td>14.8</td>\n      <td>19.8</td>\n      <td>32.0</td>\n      <td>9.1</td>\n      <td>2013-2014</td>\n      <td>-6.2</td>\n      <td>2014</td>\n      <td>Los Angeles Lakers</td>\n      <td>2014</td>\n      <td>2014_Los Angeles Lakers</td>\n    </tr>\n    <tr>\n      <th>483</th>\n      <td>Memphis</td>\n      <td>96.1</td>\n      <td>94.6</td>\n      <td>42.4</td>\n      <td>21.8</td>\n      <td>7.8</td>\n      <td>4.4</td>\n      <td>12.8</td>\n      <td>19.3</td>\n      <td>30.7</td>\n      <td>11.7</td>\n      <td>2013-2014</td>\n      <td>1.5</td>\n      <td>2014</td>\n      <td>Memphis Grizzlies</td>\n      <td>2014</td>\n      <td>2014_Memphis Grizzlies</td>\n    </tr>\n    <tr>\n      <th>478</th>\n      <td>Miami</td>\n      <td>102.2</td>\n      <td>97.4</td>\n      <td>36.3</td>\n      <td>21.7</td>\n      <td>8.6</td>\n      <td>4.3</td>\n      <td>13.6</td>\n      <td>19.7</td>\n      <td>29.0</td>\n      <td>7.3</td>\n      <td>2013-2014</td>\n      <td>4.8</td>\n      <td>2014</td>\n      <td>Miami Heat</td>\n      <td>2014</td>\n      <td>2014_Miami Heat</td>\n    </tr>\n    <tr>\n      <th>500</th>\n      <td>Milwaukee</td>\n      <td>95.5</td>\n      <td>103.7</td>\n      <td>41.1</td>\n      <td>21.5</td>\n      <td>6.6</td>\n      <td>4.9</td>\n      <td>14.3</td>\n      <td>20.9</td>\n      <td>29.3</td>\n      <td>11.9</td>\n      <td>2013-2014</td>\n      <td>-8.2</td>\n      <td>2014</td>\n      <td>Milwaukee Bucks</td>\n      <td>2014</td>\n      <td>2014_Milwaukee Bucks</td>\n    </tr>\n    <tr>\n      <th>487</th>\n      <td>Minnesota</td>\n      <td>106.9</td>\n      <td>104.3</td>\n      <td>44.7</td>\n      <td>24.0</td>\n      <td>8.8</td>\n      <td>3.6</td>\n      <td>13.5</td>\n      <td>18.3</td>\n      <td>32.2</td>\n      <td>12.5</td>\n      <td>2013-2014</td>\n      <td>2.6</td>\n      <td>2014</td>\n      <td>Minnesota Timberwolves</td>\n      <td>2014</td>\n      <td>2014_Minnesota Timberwolves</td>\n    </tr>\n    <tr>\n      <th>491</th>\n      <td>New Orleans</td>\n      <td>99.7</td>\n      <td>102.4</td>\n      <td>41.7</td>\n      <td>21.3</td>\n      <td>7.9</td>\n      <td>6.4</td>\n      <td>13.0</td>\n      <td>22.6</td>\n      <td>30.3</td>\n      <td>11.4</td>\n      <td>2013-2014</td>\n      <td>-2.7</td>\n      <td>2014</td>\n      <td>New Orleans Pelicans</td>\n      <td>2014</td>\n      <td>2014_New Orleans Pelicans</td>\n    </tr>\n    <tr>\n      <th>488</th>\n      <td>New York</td>\n      <td>98.6</td>\n      <td>99.4</td>\n      <td>40.3</td>\n      <td>20.0</td>\n      <td>7.7</td>\n      <td>4.5</td>\n      <td>12.4</td>\n      <td>22.1</td>\n      <td>29.7</td>\n      <td>10.6</td>\n      <td>2013-2014</td>\n      <td>-0.8</td>\n      <td>2014</td>\n      <td>New York Knicks</td>\n      <td>2014</td>\n      <td>2014_New York Knicks</td>\n    </tr>\n    <tr>\n      <th>474</th>\n      <td>Oklahoma City</td>\n      <td>106.2</td>\n      <td>99.8</td>\n      <td>44.8</td>\n      <td>21.4</td>\n      <td>7.9</td>\n      <td>6.1</td>\n      <td>14.8</td>\n      <td>22.7</td>\n      <td>33.9</td>\n      <td>10.9</td>\n      <td>2013-2014</td>\n      <td>6.4</td>\n      <td>2014</td>\n      <td>Oklahoma City Thunder</td>\n      <td>2014</td>\n      <td>2014_Oklahoma City Thunder</td>\n    </tr>\n    <tr>\n      <th>497</th>\n      <td>Orlando</td>\n      <td>96.5</td>\n      <td>102.0</td>\n      <td>42.0</td>\n      <td>21.0</td>\n      <td>7.7</td>\n      <td>4.3</td>\n      <td>14.2</td>\n      <td>20.5</td>\n      <td>32.4</td>\n      <td>9.7</td>\n      <td>2013-2014</td>\n      <td>-5.5</td>\n      <td>2014</td>\n      <td>Orlando Magic</td>\n      <td>2014</td>\n      <td>2014_Orlando Magic</td>\n    </tr>\n    <tr>\n      <th>502</th>\n      <td>Philadelphia</td>\n      <td>99.5</td>\n      <td>109.9</td>\n      <td>42.9</td>\n      <td>20.5</td>\n      <td>9.6</td>\n      <td>5.9</td>\n      <td>17.7</td>\n      <td>21.7</td>\n      <td>30.9</td>\n      <td>11.9</td>\n      <td>2013-2014</td>\n      <td>-10.4</td>\n      <td>2014</td>\n      <td>Philadelphia 76ers</td>\n      <td>2014</td>\n      <td>2014_Philadelphia 76ers</td>\n    </tr>\n    <tr>\n      <th>485</th>\n      <td>Phoenix</td>\n      <td>105.2</td>\n      <td>102.6</td>\n      <td>43.0</td>\n      <td>19.1</td>\n      <td>8.4</td>\n      <td>4.6</td>\n      <td>14.8</td>\n      <td>21.9</td>\n      <td>31.7</td>\n      <td>11.3</td>\n      <td>2013-2014</td>\n      <td>2.6</td>\n      <td>2014</td>\n      <td>Phoenix Suns</td>\n      <td>2014</td>\n      <td>2014_Phoenix Suns</td>\n    </tr>\n    <tr>\n      <th>482</th>\n      <td>Portland</td>\n      <td>106.7</td>\n      <td>102.8</td>\n      <td>46.2</td>\n      <td>22.5</td>\n      <td>5.6</td>\n      <td>4.9</td>\n      <td>13.3</td>\n      <td>19.6</td>\n      <td>33.8</td>\n      <td>12.4</td>\n      <td>2013-2014</td>\n      <td>3.9</td>\n      <td>2014</td>\n      <td>Portland Trail Blazers</td>\n      <td>2014</td>\n      <td>2014_Portland Trail Blazers</td>\n    </tr>\n    <tr>\n      <th>494</th>\n      <td>Sacramento</td>\n      <td>100.5</td>\n      <td>103.4</td>\n      <td>44.5</td>\n      <td>18.9</td>\n      <td>7.2</td>\n      <td>3.9</td>\n      <td>14.7</td>\n      <td>22.5</td>\n      <td>32.4</td>\n      <td>12.1</td>\n      <td>2013-2014</td>\n      <td>-2.9</td>\n      <td>2014</td>\n      <td>Sacramento Kings</td>\n      <td>2014</td>\n      <td>2014_Sacramento Kings</td>\n    </tr>\n    <tr>\n      <th>473</th>\n      <td>San Antonio</td>\n      <td>105.4</td>\n      <td>97.6</td>\n      <td>43.0</td>\n      <td>24.5</td>\n      <td>7.5</td>\n      <td>4.8</td>\n      <td>13.6</td>\n      <td>18.6</td>\n      <td>33.7</td>\n      <td>9.3</td>\n      <td>2013-2014</td>\n      <td>7.8</td>\n      <td>2014</td>\n      <td>San Antonio Spurs</td>\n      <td>2014</td>\n      <td>2014_San Antonio Spurs</td>\n    </tr>\n    <tr>\n      <th>484</th>\n      <td>Toronto</td>\n      <td>101.3</td>\n      <td>98.0</td>\n      <td>42.4</td>\n      <td>20.9</td>\n      <td>6.9</td>\n      <td>4.1</td>\n      <td>13.4</td>\n      <td>23.2</td>\n      <td>31.1</td>\n      <td>11.3</td>\n      <td>2013-2014</td>\n      <td>3.3</td>\n      <td>2014</td>\n      <td>Toronto Raptors</td>\n      <td>2014</td>\n      <td>2014_Toronto Raptors</td>\n    </tr>\n    <tr>\n      <th>499</th>\n      <td>Utah</td>\n      <td>95.0</td>\n      <td>102.2</td>\n      <td>41.2</td>\n      <td>20.3</td>\n      <td>7.0</td>\n      <td>4.5</td>\n      <td>14.0</td>\n      <td>20.7</td>\n      <td>30.2</td>\n      <td>11.0</td>\n      <td>2013-2014</td>\n      <td>-7.2</td>\n      <td>2014</td>\n      <td>Utah Jazz</td>\n      <td>2014</td>\n      <td>2014_Utah Jazz</td>\n    </tr>\n    <tr>\n      <th>486</th>\n      <td>Washington</td>\n      <td>100.7</td>\n      <td>99.4</td>\n      <td>42.5</td>\n      <td>22.8</td>\n      <td>8.1</td>\n      <td>4.7</td>\n      <td>13.9</td>\n      <td>20.6</td>\n      <td>31.6</td>\n      <td>10.9</td>\n      <td>2013-2014</td>\n      <td>1.3</td>\n      <td>2014</td>\n      <td>Washington Wizards</td>\n      <td>2014</td>\n      <td>2014_Washington Wizards</td>\n    </tr>\n  </tbody>\n</table>\n</div>"
     },
     "execution_count": 173,
     "metadata": {},
     "output_type": "execute_result"
    }
   ],
   "source": [
    "team_df[team_df['po_year'] == 2014].sort_values(by='Team')\n",
    "# No data for: 2005_Atlanta Hawks\n",
    "# 2006 Portland\n",
    "# 2007 Vancouver/Memphis\n",
    "# 2008 Vancouver/Memphis\n",
    "# 2009 Sacramento\n",
    "# 2010 Minnesota\n"
   ],
   "metadata": {
    "collapsed": false,
    "pycharm": {
     "name": "#%%\n"
    }
   }
  },
  {
   "cell_type": "markdown",
   "source": [
    "## And the merge"
   ],
   "metadata": {
    "collapsed": false,
    "pycharm": {
     "name": "#%% md\n"
    }
   }
  },
  {
   "cell_type": "code",
   "execution_count": 174,
   "outputs": [],
   "source": [
    "# Merge!\n",
    "# (No longer need indicator)\n",
    "merged_df = season_team_df.merge(team_df, on='year_team', how='left', indicator=False)"
   ],
   "metadata": {
    "collapsed": false,
    "pycharm": {
     "name": "#%%\n"
    }
   }
  },
  {
   "cell_type": "code",
   "execution_count": 175,
   "outputs": [],
   "source": [
    "merged_df.drop(columns=['po_year_y','team_full_y','po_year_str_x','po_year_str_y','Year'], inplace=True, errors='ignore')"
   ],
   "metadata": {
    "collapsed": false,
    "pycharm": {
     "name": "#%%\n"
    }
   }
  },
  {
   "cell_type": "code",
   "execution_count": 176,
   "outputs": [],
   "source": [
    "merged_df.rename(columns={'po_year_x':'po_year','team_full_x':'team_full'}, inplace=True)"
   ],
   "metadata": {
    "collapsed": false,
    "pycharm": {
     "name": "#%%\n"
    }
   }
  },
  {
   "cell_type": "code",
   "execution_count": 177,
   "outputs": [],
   "source": [
    "merged_df.to_csv(\"nba_data_full.csv\", index=False)"
   ],
   "metadata": {
    "collapsed": false,
    "pycharm": {
     "name": "#%%\n"
    }
   }
  },
  {
   "cell_type": "code",
   "execution_count": 178,
   "outputs": [
    {
     "data": {
      "text/plain": "      season team_abbreviation        age  player_height  player_weight  \\\n0    1997-98               ATL  28.250000     199.231250      99.166551   \n1    1997-98               BOS  25.857143     200.297143      95.027524   \n2    1997-98               CHH  29.733333     200.829333     101.755805   \n3    1997-98               CHI  30.600000     201.337333     103.691131   \n4    1997-98               CLE  26.375000     199.231250      96.756844   \n..       ...               ...        ...            ...            ...   \n678  2019-20               SAC  25.117647     199.763529      98.242691   \n679  2019-20               SAS  25.750000     199.390000      99.223250   \n680  2019-20               TOR  25.555556     198.261111      96.539497   \n681  2019-20               UTA  25.666667     196.285556      98.353865   \n682  2019-20               WAS  25.210526     197.718947      96.925448   \n\n     po_year            team_full  playoffs                 year_team  \\\n0       1998        Atlanta Hawks      True        1998_Atlanta Hawks   \n1       1998       Boston Celtics     False       1998_Boston Celtics   \n2       1998    Charlotte Hornets      True    1998_Charlotte Hornets   \n3       1998        Chicago Bulls      True        1998_Chicago Bulls   \n4       1998  Cleveland Cavaliers      True  1998_Cleveland Cavaliers   \n..       ...                  ...       ...                       ...   \n678     2020     Sacramento Kings     False     2020_Sacramento Kings   \n679     2020    San Antonio Spurs     False    2020_San Antonio Spurs   \n680     2020      Toronto Raptors      True      2020_Toronto Raptors   \n681     2020            Utah Jazz      True            2020_Utah Jazz   \n682     2020   Washington Wizards     False   2020_Washington Wizards   \n\n            Team  ...  OppPtsSeason   Reb   Ast   Stl  Blk    To    Pf  Dreb  \\\n0        Atlanta  ...          92.3  42.8  19.0   8.0  5.9  14.0  20.5  29.5   \n1         Boston  ...          98.5  39.5  22.1  12.0  4.5  15.6  26.9  24.9   \n2      Charlotte  ...          94.6  40.1  23.4   8.2  3.7  14.4  21.4  28.4   \n3        Chicago  ...          89.6  44.1  23.1   8.6  4.3  13.0  21.1  29.2   \n4      Cleveland  ...          89.8  39.8  22.9   9.9  5.0  16.6  23.7  28.2   \n..           ...  ...           ...   ...   ...   ...  ...   ...   ...   ...   \n678   Sacramento  ...         112.1  42.6  23.8   7.7  4.1  13.7  22.2  32.9   \n679  San Antonio  ...         115.2  44.6  24.7   7.3  5.5  12.2  19.4  35.6   \n680      Toronto  ...         106.5  45.3  25.2   8.6  5.0  13.8  21.8  36.0   \n681         Utah  ...         108.8  44.6  22.3   6.1  4.0  14.2  20.3  35.4   \n682   Washington  ...         119.1  42.1  25.0   8.0  4.3  13.5  22.7  31.9   \n\n     Oreb  PtsDiff  \n0    13.4      3.6  \n1    14.6     -2.6  \n2    11.7      2.0  \n3    14.9      7.1  \n4    11.6      2.7  \n..    ...      ...  \n678   9.7     -2.0  \n679   9.0     -1.1  \n680   9.3      6.3  \n681   9.1      2.5  \n682  10.2     -4.7  \n\n[683 rows x 21 columns]",
      "text/html": "<div>\n<style scoped>\n    .dataframe tbody tr th:only-of-type {\n        vertical-align: middle;\n    }\n\n    .dataframe tbody tr th {\n        vertical-align: top;\n    }\n\n    .dataframe thead th {\n        text-align: right;\n    }\n</style>\n<table border=\"1\" class=\"dataframe\">\n  <thead>\n    <tr style=\"text-align: right;\">\n      <th></th>\n      <th>season</th>\n      <th>team_abbreviation</th>\n      <th>age</th>\n      <th>player_height</th>\n      <th>player_weight</th>\n      <th>po_year</th>\n      <th>team_full</th>\n      <th>playoffs</th>\n      <th>year_team</th>\n      <th>Team</th>\n      <th>...</th>\n      <th>OppPtsSeason</th>\n      <th>Reb</th>\n      <th>Ast</th>\n      <th>Stl</th>\n      <th>Blk</th>\n      <th>To</th>\n      <th>Pf</th>\n      <th>Dreb</th>\n      <th>Oreb</th>\n      <th>PtsDiff</th>\n    </tr>\n  </thead>\n  <tbody>\n    <tr>\n      <th>0</th>\n      <td>1997-98</td>\n      <td>ATL</td>\n      <td>28.250000</td>\n      <td>199.231250</td>\n      <td>99.166551</td>\n      <td>1998</td>\n      <td>Atlanta Hawks</td>\n      <td>True</td>\n      <td>1998_Atlanta Hawks</td>\n      <td>Atlanta</td>\n      <td>...</td>\n      <td>92.3</td>\n      <td>42.8</td>\n      <td>19.0</td>\n      <td>8.0</td>\n      <td>5.9</td>\n      <td>14.0</td>\n      <td>20.5</td>\n      <td>29.5</td>\n      <td>13.4</td>\n      <td>3.6</td>\n    </tr>\n    <tr>\n      <th>1</th>\n      <td>1997-98</td>\n      <td>BOS</td>\n      <td>25.857143</td>\n      <td>200.297143</td>\n      <td>95.027524</td>\n      <td>1998</td>\n      <td>Boston Celtics</td>\n      <td>False</td>\n      <td>1998_Boston Celtics</td>\n      <td>Boston</td>\n      <td>...</td>\n      <td>98.5</td>\n      <td>39.5</td>\n      <td>22.1</td>\n      <td>12.0</td>\n      <td>4.5</td>\n      <td>15.6</td>\n      <td>26.9</td>\n      <td>24.9</td>\n      <td>14.6</td>\n      <td>-2.6</td>\n    </tr>\n    <tr>\n      <th>2</th>\n      <td>1997-98</td>\n      <td>CHH</td>\n      <td>29.733333</td>\n      <td>200.829333</td>\n      <td>101.755805</td>\n      <td>1998</td>\n      <td>Charlotte Hornets</td>\n      <td>True</td>\n      <td>1998_Charlotte Hornets</td>\n      <td>Charlotte</td>\n      <td>...</td>\n      <td>94.6</td>\n      <td>40.1</td>\n      <td>23.4</td>\n      <td>8.2</td>\n      <td>3.7</td>\n      <td>14.4</td>\n      <td>21.4</td>\n      <td>28.4</td>\n      <td>11.7</td>\n      <td>2.0</td>\n    </tr>\n    <tr>\n      <th>3</th>\n      <td>1997-98</td>\n      <td>CHI</td>\n      <td>30.600000</td>\n      <td>201.337333</td>\n      <td>103.691131</td>\n      <td>1998</td>\n      <td>Chicago Bulls</td>\n      <td>True</td>\n      <td>1998_Chicago Bulls</td>\n      <td>Chicago</td>\n      <td>...</td>\n      <td>89.6</td>\n      <td>44.1</td>\n      <td>23.1</td>\n      <td>8.6</td>\n      <td>4.3</td>\n      <td>13.0</td>\n      <td>21.1</td>\n      <td>29.2</td>\n      <td>14.9</td>\n      <td>7.1</td>\n    </tr>\n    <tr>\n      <th>4</th>\n      <td>1997-98</td>\n      <td>CLE</td>\n      <td>26.375000</td>\n      <td>199.231250</td>\n      <td>96.756844</td>\n      <td>1998</td>\n      <td>Cleveland Cavaliers</td>\n      <td>True</td>\n      <td>1998_Cleveland Cavaliers</td>\n      <td>Cleveland</td>\n      <td>...</td>\n      <td>89.8</td>\n      <td>39.8</td>\n      <td>22.9</td>\n      <td>9.9</td>\n      <td>5.0</td>\n      <td>16.6</td>\n      <td>23.7</td>\n      <td>28.2</td>\n      <td>11.6</td>\n      <td>2.7</td>\n    </tr>\n    <tr>\n      <th>...</th>\n      <td>...</td>\n      <td>...</td>\n      <td>...</td>\n      <td>...</td>\n      <td>...</td>\n      <td>...</td>\n      <td>...</td>\n      <td>...</td>\n      <td>...</td>\n      <td>...</td>\n      <td>...</td>\n      <td>...</td>\n      <td>...</td>\n      <td>...</td>\n      <td>...</td>\n      <td>...</td>\n      <td>...</td>\n      <td>...</td>\n      <td>...</td>\n      <td>...</td>\n      <td>...</td>\n    </tr>\n    <tr>\n      <th>678</th>\n      <td>2019-20</td>\n      <td>SAC</td>\n      <td>25.117647</td>\n      <td>199.763529</td>\n      <td>98.242691</td>\n      <td>2020</td>\n      <td>Sacramento Kings</td>\n      <td>False</td>\n      <td>2020_Sacramento Kings</td>\n      <td>Sacramento</td>\n      <td>...</td>\n      <td>112.1</td>\n      <td>42.6</td>\n      <td>23.8</td>\n      <td>7.7</td>\n      <td>4.1</td>\n      <td>13.7</td>\n      <td>22.2</td>\n      <td>32.9</td>\n      <td>9.7</td>\n      <td>-2.0</td>\n    </tr>\n    <tr>\n      <th>679</th>\n      <td>2019-20</td>\n      <td>SAS</td>\n      <td>25.750000</td>\n      <td>199.390000</td>\n      <td>99.223250</td>\n      <td>2020</td>\n      <td>San Antonio Spurs</td>\n      <td>False</td>\n      <td>2020_San Antonio Spurs</td>\n      <td>San Antonio</td>\n      <td>...</td>\n      <td>115.2</td>\n      <td>44.6</td>\n      <td>24.7</td>\n      <td>7.3</td>\n      <td>5.5</td>\n      <td>12.2</td>\n      <td>19.4</td>\n      <td>35.6</td>\n      <td>9.0</td>\n      <td>-1.1</td>\n    </tr>\n    <tr>\n      <th>680</th>\n      <td>2019-20</td>\n      <td>TOR</td>\n      <td>25.555556</td>\n      <td>198.261111</td>\n      <td>96.539497</td>\n      <td>2020</td>\n      <td>Toronto Raptors</td>\n      <td>True</td>\n      <td>2020_Toronto Raptors</td>\n      <td>Toronto</td>\n      <td>...</td>\n      <td>106.5</td>\n      <td>45.3</td>\n      <td>25.2</td>\n      <td>8.6</td>\n      <td>5.0</td>\n      <td>13.8</td>\n      <td>21.8</td>\n      <td>36.0</td>\n      <td>9.3</td>\n      <td>6.3</td>\n    </tr>\n    <tr>\n      <th>681</th>\n      <td>2019-20</td>\n      <td>UTA</td>\n      <td>25.666667</td>\n      <td>196.285556</td>\n      <td>98.353865</td>\n      <td>2020</td>\n      <td>Utah Jazz</td>\n      <td>True</td>\n      <td>2020_Utah Jazz</td>\n      <td>Utah</td>\n      <td>...</td>\n      <td>108.8</td>\n      <td>44.6</td>\n      <td>22.3</td>\n      <td>6.1</td>\n      <td>4.0</td>\n      <td>14.2</td>\n      <td>20.3</td>\n      <td>35.4</td>\n      <td>9.1</td>\n      <td>2.5</td>\n    </tr>\n    <tr>\n      <th>682</th>\n      <td>2019-20</td>\n      <td>WAS</td>\n      <td>25.210526</td>\n      <td>197.718947</td>\n      <td>96.925448</td>\n      <td>2020</td>\n      <td>Washington Wizards</td>\n      <td>False</td>\n      <td>2020_Washington Wizards</td>\n      <td>Washington</td>\n      <td>...</td>\n      <td>119.1</td>\n      <td>42.1</td>\n      <td>25.0</td>\n      <td>8.0</td>\n      <td>4.3</td>\n      <td>13.5</td>\n      <td>22.7</td>\n      <td>31.9</td>\n      <td>10.2</td>\n      <td>-4.7</td>\n    </tr>\n  </tbody>\n</table>\n<p>683 rows × 21 columns</p>\n</div>"
     },
     "execution_count": 178,
     "metadata": {},
     "output_type": "execute_result"
    }
   ],
   "source": [
    "merged_df"
   ],
   "metadata": {
    "collapsed": false,
    "pycharm": {
     "name": "#%%\n"
    }
   }
  },
  {
   "cell_type": "code",
   "execution_count": 178,
   "outputs": [],
   "source": [],
   "metadata": {
    "collapsed": false,
    "pycharm": {
     "name": "#%%\n"
    }
   }
  },
  {
   "cell_type": "code",
   "execution_count": 178,
   "outputs": [],
   "source": [],
   "metadata": {
    "collapsed": false,
    "pycharm": {
     "name": "#%%\n"
    }
   }
  },
  {
   "cell_type": "code",
   "execution_count": null,
   "outputs": [],
   "source": [],
   "metadata": {
    "collapsed": false,
    "pycharm": {
     "name": "#%%\n"
    }
   }
  }
 ],
 "metadata": {
  "kernelspec": {
   "display_name": "Python 3",
   "language": "python",
   "name": "python3"
  },
  "language_info": {
   "codemirror_mode": {
    "name": "ipython",
    "version": 2
   },
   "file_extension": ".py",
   "mimetype": "text/x-python",
   "name": "python",
   "nbconvert_exporter": "python",
   "pygments_lexer": "ipython2",
   "version": "2.7.6"
  }
 },
 "nbformat": 4,
 "nbformat_minor": 0
}